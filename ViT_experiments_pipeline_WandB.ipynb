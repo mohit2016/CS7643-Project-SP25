{
  "nbformat": 4,
  "nbformat_minor": 0,
  "metadata": {
    "colab": {
      "provenance": [],
      "gpuType": "T4"
    },
    "kernelspec": {
      "name": "python3",
      "display_name": "Python 3"
    },
    "language_info": {
      "name": "python"
    },
    "accelerator": "GPU"
  },
  "cells": [
    {
      "cell_type": "code",
      "source": [
        "# !pip install datasets --upgrade evaluate"
      ],
      "metadata": {
        "id": "RCirIuR0evz1"
      },
      "execution_count": 3,
      "outputs": []
    },
    {
      "cell_type": "code",
      "source": [
        "# !pip install transformers==4.28.1"
      ],
      "metadata": {
        "id": "QtURPwf4nqDp"
      },
      "execution_count": 5,
      "outputs": []
    },
    {
      "cell_type": "code",
      "execution_count": 7,
      "metadata": {
        "id": "nW76RvsBd0lZ"
      },
      "outputs": [],
      "source": [
        "import os\n",
        "import numpy as np\n",
        "import torch\n",
        "import matplotlib.pyplot as plt\n",
        "import pandas as pd\n",
        "from datasets import load_dataset\n",
        "from evaluate import load\n",
        "from transformers import (\n",
        "    ViTFeatureExtractor,\n",
        "    ViTForImageClassification,\n",
        "    TrainingArguments,\n",
        "    Trainer,\n",
        "    get_scheduler,\n",
        "    AutoImageProcessor\n",
        ")\n",
        "\n",
        "from torch.optim import AdamW, SGD\n",
        "import wandb\n",
        "from sklearn.metrics import accuracy_score, precision_recall_fscore_support\n",
        "import torchvision.transforms as transforms\n",
        "from PIL import Image\n",
        "import random\n",
        "from tqdm.auto import tqdm"
      ]
    },
    {
      "cell_type": "code",
      "source": [
        "# Set seed for reproducibility\n",
        "def set_seed(seed=42):\n",
        "    random.seed(seed)\n",
        "    np.random.seed(seed)\n",
        "    torch.manual_seed(seed)\n",
        "    torch.cuda.manual_seed_all(seed)\n",
        "\n",
        "set_seed()\n",
        "\n",
        "# Initialize experiment tracking\n",
        "def init_wandb(project_name, experiment_name, config):\n",
        "    return wandb.init(\n",
        "        entity=\"dl_project_sp25\",\n",
        "        project=project_name,\n",
        "        name=experiment_name,\n",
        "        config=config,\n",
        "        reinit=True\n",
        "    )\n",
        "\n",
        "# Load and prepare dataset\n",
        "def prepare_dataset(dataset_name, image_processor):\n",
        "    \"\"\"\n",
        "    Load and prepare a dataset from Hugging Face for ViT fine-tuning\n",
        "    \"\"\"\n",
        "    # Load the dataset\n",
        "    print(f\"Loading dataset: {dataset_name}\")\n",
        "    dataset = load_dataset(dataset_name)\n",
        "\n",
        "    # Get label information\n",
        "    if \"label\" in dataset[\"train\"].features:\n",
        "        labels = dataset[\"train\"].features[\"label\"].names\n",
        "    elif \"labels\" in dataset[\"train\"].features:\n",
        "        labels = dataset[\"train\"].features[\"labels\"].names\n",
        "    else:\n",
        "        # Count unique labels and create labels list\n",
        "        all_labels = dataset[\"train\"][0][\"label\"] if \"label\" in dataset[\"train\"][0] else dataset[\"train\"][0][\"labels\"]\n",
        "        num_labels = len(set(all_labels))\n",
        "        labels = [str(i) for i in range(num_labels)]\n",
        "\n",
        "    # Create label mappings\n",
        "    label2id = {label: i for i, label in enumerate(labels)}\n",
        "    id2label = {i: label for i, label in enumerate(labels)}\n",
        "\n",
        "    # Set up image transformations based on the model's requirements\n",
        "    normalize = transforms.Normalize(\n",
        "        mean=image_processor.image_mean,\n",
        "        std=image_processor.image_std\n",
        "    )\n",
        "\n",
        "    # Get the expected image size\n",
        "    if \"shortest_edge\" in image_processor.size:\n",
        "        size = image_processor.size[\"shortest_edge\"]\n",
        "    else:\n",
        "        size = (image_processor.size[\"height\"], image_processor.size[\"width\"])\n",
        "\n",
        "    # Define transforms for training data\n",
        "    train_transforms = transforms.Compose([\n",
        "        transforms.RandomResizedCrop(size),\n",
        "        transforms.RandomHorizontalFlip(),\n",
        "        transforms.ToTensor(),\n",
        "        normalize,\n",
        "    ])\n",
        "\n",
        "    # Define transforms for validation/test data\n",
        "    val_transforms = transforms.Compose([\n",
        "        transforms.Resize(size),\n",
        "        transforms.CenterCrop(size),\n",
        "        transforms.ToTensor(),\n",
        "        normalize,\n",
        "    ])\n",
        "\n",
        "    # Apply transformations to the dataset\n",
        "    def preprocess_train(examples):\n",
        "        examples[\"pixel_values\"] = [\n",
        "            train_transforms(image.convert(\"RGB\"))\n",
        "            for image in examples[\"image\"]\n",
        "        ]\n",
        "        return examples\n",
        "\n",
        "    def preprocess_val(examples):\n",
        "        examples[\"pixel_values\"] = [\n",
        "            val_transforms(image.convert(\"RGB\"))\n",
        "            for image in examples[\"image\"]\n",
        "        ]\n",
        "        return examples\n",
        "\n",
        "    # Apply preprocessing to each split\n",
        "    train_dataset = dataset[\"train\"].map(\n",
        "        preprocess_train, batched=True, remove_columns=[\"image\"]\n",
        "    )\n",
        "\n",
        "    if \"validation\" in dataset:\n",
        "        val_dataset = dataset[\"validation\"].map(\n",
        "            preprocess_val, batched=True, remove_columns=[\"image\"]\n",
        "        )\n",
        "    else:\n",
        "        # Create a validation split if none exists\n",
        "        splits = train_dataset.train_test_split(test_size=0.1)\n",
        "        train_dataset = splits[\"train\"]\n",
        "        val_dataset = splits[\"test\"]\n",
        "\n",
        "    if \"test\" in dataset:\n",
        "        test_dataset = dataset[\"test\"].map(\n",
        "            preprocess_val, batched=True, remove_columns=[\"image\"]\n",
        "        )\n",
        "    else:\n",
        "        test_dataset = val_dataset\n",
        "\n",
        "    print(f\"Dataset prepared with {len(train_dataset)} training, {len(val_dataset)} validation, and {len(test_dataset)} test examples\")\n",
        "\n",
        "    return train_dataset, val_dataset, test_dataset, id2label, label2id\n",
        "\n",
        "# Define compute_metrics function for evaluation\n",
        "def compute_metrics(eval_pred):\n",
        "    predictions, labels = eval_pred\n",
        "    predictions = np.argmax(predictions, axis=1)\n",
        "    precision, recall, f1, _ = precision_recall_fscore_support(labels, predictions, average='weighted')\n",
        "    acc = accuracy_score(labels, predictions)\n",
        "    return {\n",
        "        'accuracy': acc,\n",
        "        'f1': f1,\n",
        "        'precision': precision,\n",
        "        'recall': recall\n",
        "    }\n",
        "\n",
        "# Main experiment pipeline\n",
        "def run_vit_experiment(config):\n",
        "    \"\"\"\n",
        "    Run a ViT experiment with the specified configuration\n",
        "    \"\"\"\n",
        "    # Initialize wandb for experiment tracking\n",
        "    run = init_wandb(\"ViT-LR-Schedulers\", config[\"experiment_name\"], config)\n",
        "\n",
        "    # Load the image processor for the model\n",
        "    image_processor = AutoImageProcessor.from_pretrained(config[\"model_name\"])\n",
        "\n",
        "    # Prepare the dataset\n",
        "    train_dataset, val_dataset, test_dataset, id2label, label2id = prepare_dataset(\n",
        "        config[\"dataset_name\"], image_processor\n",
        "    )\n",
        "\n",
        "    # Load the ViT model\n",
        "    model = ViTForImageClassification.from_pretrained(\n",
        "        config[\"model_name\"],\n",
        "        num_labels=len(id2label),\n",
        "        id2label=id2label,\n",
        "        label2id=label2id,\n",
        "        ignore_mismatched_sizes=True\n",
        "    )\n",
        "\n",
        "    # Define training arguments\n",
        "    training_args = TrainingArguments(\n",
        "        output_dir=f\"./results/{config['experiment_name']}\",\n",
        "        per_device_train_batch_size=config[\"batch_size\"],\n",
        "        per_device_eval_batch_size=config[\"batch_size\"],\n",
        "        num_train_epochs=config[\"num_epochs\"],\n",
        "        weight_decay=config[\"weight_decay\"],\n",
        "        evaluation_strategy=\"epoch\",\n",
        "        save_strategy=\"epoch\",\n",
        "        load_best_model_at_end=True,\n",
        "        metric_for_best_model=\"accuracy\",\n",
        "        push_to_hub=False,\n",
        "        report_to=\"wandb\",\n",
        "        remove_unused_columns=False,\n",
        "        learning_rate=config[\"learning_rate\"],\n",
        "    )\n",
        "\n",
        "    # Setup optimizer\n",
        "    if config[\"optimizer_name\"] == \"AdamW\":\n",
        "        optimizer = AdamW(model.parameters(), lr=config[\"learning_rate\"])\n",
        "    else:  # SGD\n",
        "        optimizer = SGD(model.parameters(), lr=config[\"learning_rate\"], momentum=0.9)\n",
        "\n",
        "    # Setup scheduler\n",
        "    num_training_steps = len(train_dataset) // config[\"batch_size\"] * config[\"num_epochs\"]\n",
        "    num_warmup_steps = int(num_training_steps * config[\"warmup_ratio\"]) if \"warmup_ratio\" in config else 0\n",
        "\n",
        "    scheduler_name = config[\"scheduler_name\"]\n",
        "    if scheduler_name == \"linear\":\n",
        "        scheduler = get_scheduler(\n",
        "            \"linear\",\n",
        "            optimizer=optimizer,\n",
        "            num_warmup_steps=num_warmup_steps,\n",
        "            num_training_steps=num_training_steps\n",
        "        )\n",
        "    elif scheduler_name == \"cosine\":\n",
        "        scheduler = get_scheduler(\n",
        "            \"cosine\",\n",
        "            optimizer=optimizer,\n",
        "            num_warmup_steps=num_warmup_steps,\n",
        "            num_training_steps=num_training_steps\n",
        "        )\n",
        "    elif scheduler_name == \"cosine_with_restarts\":\n",
        "        scheduler = get_scheduler(\n",
        "            \"cosine_with_restarts\",\n",
        "            optimizer=optimizer,\n",
        "            num_warmup_steps=num_warmup_steps,\n",
        "            num_training_steps=num_training_steps,\n",
        "        )\n",
        "    elif scheduler_name == \"polynomial\":\n",
        "        scheduler = get_scheduler(\n",
        "            \"polynomial\",\n",
        "            optimizer=optimizer,\n",
        "            num_warmup_steps=num_warmup_steps,\n",
        "            num_training_steps=num_training_steps,\n",
        "            # power=config.get(\"poly_power\", 1.0),\n",
        "        )\n",
        "    elif scheduler_name == \"constant\":\n",
        "        scheduler = get_scheduler(\n",
        "            \"constant\",\n",
        "            optimizer=optimizer,\n",
        "        )\n",
        "    elif scheduler_name == \"constant_with_warmup\":\n",
        "        scheduler = get_scheduler(\n",
        "            \"constant_with_warmup\",\n",
        "            optimizer=optimizer,\n",
        "            num_warmup_steps=num_warmup_steps,\n",
        "        )\n",
        "    # add more experiments.\n",
        "\n",
        "\n",
        "    else:\n",
        "        raise ValueError(f\"Scheduler {scheduler_name} not supported\")\n",
        "\n",
        "    # Initialize Trainer\n",
        "    trainer = Trainer(\n",
        "        model=model,\n",
        "        args=training_args,\n",
        "        train_dataset=train_dataset,\n",
        "        eval_dataset=val_dataset,\n",
        "        compute_metrics=compute_metrics,\n",
        "        optimizers=(optimizer, scheduler)\n",
        "    )\n",
        "\n",
        "    # Train the model\n",
        "    print(f\"Starting training for {config['experiment_name']}...\")\n",
        "    trainer.train()\n",
        "\n",
        "    # Evaluate the model\n",
        "    print(f\"Evaluating {config['experiment_name']}...\")\n",
        "    eval_results = trainer.evaluate(test_dataset)\n",
        "\n",
        "    # Log final metrics\n",
        "    wandb.log({\n",
        "        \"final_accuracy\": eval_results[\"eval_accuracy\"],\n",
        "        \"final_f1\": eval_results[\"eval_f1\"],\n",
        "        \"final_precision\": eval_results[\"eval_precision\"],\n",
        "        \"final_recall\": eval_results[\"eval_recall\"],\n",
        "    })\n",
        "\n",
        "    # Save the model\n",
        "    trainer.save_model(f\"./saved_models/{config['experiment_name']}\")\n",
        "\n",
        "    # Finish wandb run\n",
        "    wandb.finish()\n",
        "\n",
        "    return eval_results\n",
        "\n",
        "# Get experiment configurations for challenging datasets\n",
        "def get_experiment_configs():\n",
        "    # We'll use a more complex dataset from Hugging Face\n",
        "    base_config = {\n",
        "        \"model_name\": \"google/vit-base-patch16-224-in21k\",\n",
        "        \"dataset_name\": \"jbarat/plant_species\",  # Any challenging dataset.\n",
        "        \"batch_size\": 16,\n",
        "        \"num_epochs\": 1, # let's keep smaller number to begin with.\n",
        "        \"weight_decay\": 0.01,\n",
        "        \"optimizer_name\": \"AdamW\",\n",
        "    }\n",
        "\n",
        "    # Different learning rate scheduler configurations\n",
        "    configs = []\n",
        "\n",
        "    Constant learning rate (baseline)\n",
        "    configs.append({\n",
        "        **base_config,\n",
        "        \"experiment_name\": \"vit_constant_lr\",\n",
        "        \"learning_rate\": 5e-5,\n",
        "        \"scheduler_name\": \"constant\",\n",
        "    })\n",
        "\n",
        "    # Linear decay\n",
        "    configs.append({\n",
        "        **base_config,\n",
        "        \"experiment_name\": \"vit_linear_decay\",\n",
        "        \"learning_rate\": 5e-5,\n",
        "        \"scheduler_name\": \"linear\",\n",
        "        \"warmup_ratio\": 0.1,\n",
        "    })\n",
        "\n",
        "    # Cosine decay (commonly used with ViT)\n",
        "    configs.append({\n",
        "        **base_config,\n",
        "        \"experiment_name\": \"vit_cosine_decay\",\n",
        "        \"learning_rate\": 5e-5,\n",
        "        \"scheduler_name\": \"cosine\",\n",
        "        \"warmup_ratio\": 0.1,\n",
        "    })\n",
        "\n",
        "    # Cosine with restarts\n",
        "    configs.append({\n",
        "        **base_config,\n",
        "        \"experiment_name\": \"vit_cosine_restarts\",\n",
        "        \"learning_rate\": 5e-5,\n",
        "        \"scheduler_name\": \"cosine_with_restarts\",\n",
        "        \"warmup_ratio\": 0.1,\n",
        "    })\n",
        "\n",
        "    # Polynomial decay\n",
        "    configs.append({\n",
        "        **base_config,\n",
        "        \"experiment_name\": \"vit_polynomial\",\n",
        "        \"learning_rate\": 5e-5,\n",
        "        \"scheduler_name\": \"polynomial\",\n",
        "        \"warmup_ratio\": 0.1,\n",
        "        \"poly_power\": 2.0,\n",
        "    })\n",
        "\n",
        "    # Constant with warmup\n",
        "    configs.append({\n",
        "        **base_config,\n",
        "        \"experiment_name\": \"vit_constant_warmup\",\n",
        "        \"learning_rate\": 5e-5,\n",
        "        \"scheduler_name\": \"constant_with_warmup\",\n",
        "        \"warmup_ratio\": 0.1,\n",
        "    })\n",
        "\n",
        "    # Different learning rate experiments\n",
        "    for lr in [1e-5, 3e-5, 1e-4]:\n",
        "        configs.append({\n",
        "            **base_config,\n",
        "            \"experiment_name\": f\"vit_cosine_lr_{lr}\",\n",
        "            \"learning_rate\": lr,\n",
        "            \"scheduler_name\": \"cosine\",\n",
        "            \"warmup_ratio\": 0.1,\n",
        "        })\n",
        "\n",
        "    # Different optimizer experiments\n",
        "    configs.append({\n",
        "        **base_config,\n",
        "        \"experiment_name\": \"vit_sgd_cosine\",\n",
        "        \"learning_rate\": 0.01,  # Higher LR for SGD\n",
        "        \"scheduler_name\": \"cosine\",\n",
        "        \"warmup_ratio\": 0.1,\n",
        "        \"optimizer_name\": \"SGD\",\n",
        "    })\n",
        "\n",
        "    # here we can make changes to add new datasets to experiment.\n",
        "    # or change batch_size to see the impact.\n",
        "    # Other datasets to try (uncomment to use)\n",
        "    # flowers dataset\n",
        "    configs.append({\n",
        "        **base_config,\n",
        "        \"dataset_name\": \"huggan/flowers\",\n",
        "        \"experiment_name\": \"vit_flowers_cosine\",\n",
        "        \"learning_rate\": 5e-5,\n",
        "        \"scheduler_name\": \"cosine\",\n",
        "        \"warmup_ratio\": 0.1,\n",
        "    })\n",
        "\n",
        "    return configs\n",
        "\n",
        "# Run experiments and visualize results\n",
        "def run_all_experiments():\n",
        "    configs = get_experiment_configs()\n",
        "    results = []\n",
        "\n",
        "    for config in configs:\n",
        "        print(f\"\\n{'='*50}\")\n",
        "        print(f\"Running experiment: {config['experiment_name']}\")\n",
        "        print(f\"{'='*50}\\n\")\n",
        "\n",
        "        eval_results = run_vit_experiment(config)\n",
        "        results.append({\n",
        "            \"experiment\": config['experiment_name'],\n",
        "            \"accuracy\": eval_results[\"eval_accuracy\"],\n",
        "            \"f1\": eval_results[\"eval_f1\"],\n",
        "            \"precision\": eval_results[\"eval_precision\"],\n",
        "            \"recall\": eval_results[\"eval_recall\"],\n",
        "            \"config\": config\n",
        "        })\n",
        "\n",
        "    return results\n",
        "\n",
        "# Visualize and compare results\n",
        "def visualize_results(results):\n",
        "    # Create DataFrame for easier plotting\n",
        "    df = pd.DataFrame([\n",
        "        {\n",
        "            \"Experiment\": result[\"experiment\"],\n",
        "            \"Accuracy\": result[\"accuracy\"],\n",
        "            \"F1 Score\": result[\"f1\"],\n",
        "            \"Precision\": result[\"precision\"],\n",
        "            \"Recall\": result[\"recall\"],\n",
        "            \"Learning Rate\": result[\"config\"][\"learning_rate\"],\n",
        "            \"Scheduler\": result[\"config\"][\"scheduler_name\"],\n",
        "            \"Optimizer\": result[\"config\"][\"optimizer_name\"],\n",
        "            \"Dataset\": result[\"config\"][\"dataset_name\"]\n",
        "        }\n",
        "        for result in results\n",
        "    ])\n",
        "\n",
        "    # Plot accuracy comparison\n",
        "    plt.figure(figsize=(14, 8))\n",
        "    ax = plt.bar(df[\"Experiment\"], df[\"Accuracy\"], color='skyblue')\n",
        "    plt.xlabel('Experiment')\n",
        "    plt.ylabel('Accuracy')\n",
        "    plt.title('Comparison of Model Accuracy Across Experiments')\n",
        "    plt.xticks(rotation=45, ha='right')\n",
        "    plt.tight_layout()\n",
        "    plt.savefig(\"accuracy_comparison.png\")\n",
        "    plt.close()\n",
        "\n",
        "    # Plot all metrics for a more comprehensive comparison\n",
        "    plt.figure(figsize=(16, 10))\n",
        "    metrics = [\"Accuracy\", \"F1 Score\", \"Precision\", \"Recall\"]\n",
        "    x = np.arange(len(df[\"Experiment\"]))\n",
        "    width = 0.2\n",
        "\n",
        "    for i, metric in enumerate(metrics):\n",
        "        plt.bar(x + i*width, df[metric], width=width, label=metric)\n",
        "\n",
        "    plt.xlabel('Experiment')\n",
        "    plt.ylabel('Score')\n",
        "    plt.title('Comparison of Metrics Across Experiments')\n",
        "    plt.xticks(x + width*1.5, df[\"Experiment\"], rotation=45, ha='right')\n",
        "    plt.legend()\n",
        "    plt.tight_layout()\n",
        "    plt.savefig(\"metrics_comparison.png\")\n",
        "    plt.close()\n",
        "\n",
        "    # Plot results by scheduler type\n",
        "    plt.figure(figsize=(14, 8))\n",
        "    schedulers = df[\"Scheduler\"].unique()\n",
        "    for scheduler in schedulers:\n",
        "        scheduler_data = df[df[\"Scheduler\"] == scheduler]\n",
        "        plt.plot(scheduler_data[\"Learning Rate\"], scheduler_data[\"Accuracy\"], 'o-', label=scheduler)\n",
        "\n",
        "    plt.xlabel('Learning Rate')\n",
        "    plt.ylabel('Accuracy')\n",
        "    plt.title('Accuracy vs. Learning Rate by Scheduler Type')\n",
        "    plt.xscale('log')\n",
        "    plt.legend()\n",
        "    plt.grid(True)\n",
        "    plt.tight_layout()\n",
        "    plt.savefig(\"scheduler_comparison.png\")\n",
        "    plt.close()\n",
        "\n",
        "    # Create a table with results\n",
        "    print(\"Results Summary:\")\n",
        "    print(df[[\"Experiment\", \"Accuracy\", \"F1 Score\", \"Precision\", \"Recall\", \"Scheduler\", \"Learning Rate\", \"Optimizer\", \"Dataset\"]])\n",
        "\n",
        "    # Save results to CSV\n",
        "    df.to_csv(\"experiment_results.csv\", index=False)\n",
        "\n",
        "    return df\n",
        "\n",
        "# Function to run a single experiment (useful for testing)\n",
        "def run_single_experiment(experiment_index=0):\n",
        "    configs = get_experiment_configs()\n",
        "    if experiment_index >= len(configs):\n",
        "        print(f\"Invalid experiment index. Choose between 0 and {len(configs)-1}\")\n",
        "        return\n",
        "\n",
        "    config = configs[experiment_index]\n",
        "    print(f\"Running single experiment: {config['experiment_name']}\")\n",
        "    eval_results = run_vit_experiment(config)\n",
        "\n",
        "    print(f\"\\nResults for {config['experiment_name']}:\")\n",
        "    print(f\"Accuracy: {eval_results['eval_accuracy']:.4f}\")\n",
        "    print(f\"F1 Score: {eval_results['eval_f1']:.4f}\")\n",
        "    print(f\"Precision: {eval_results['eval_precision']:.4f}\")\n",
        "    print(f\"Recall: {eval_results['eval_recall']:.4f}\")\n",
        "\n",
        "    return eval_results\n",
        "\n",
        "# Main execution\n",
        "if __name__ == \"__main__\":\n",
        "    print(\"Starting ViT experiments with different learning rate schedulers...\")\n",
        "    os.environ[\"WANDB_PROJECT\"] = \"ViT-LR-Schedulers\"\n",
        "\n",
        "    # Option 1: Run all experiments (time-consuming)\n",
        "    results = run_all_experiments()\n",
        "    results_df = visualize_results(results)\n",
        "\n",
        "    # Option 2: Run a single experiment for testing\n",
        "    # run_single_experiment(0)  # Try the baseline experiment first\n",
        "\n",
        "    print(\"Experiments completed!\")"
      ],
      "metadata": {
        "colab": {
          "base_uri": "https://localhost:8080/",
          "height": 1000
        },
        "id": "AgLdeTtFtIgc",
        "outputId": "457c59b4-f96e-4fbd-cd24-e66e95d759c5"
      },
      "execution_count": null,
      "outputs": [
        {
          "output_type": "stream",
          "name": "stdout",
          "text": [
            "Starting ViT experiments with different learning rate schedulers...\n",
            "\n",
            "==================================================\n",
            "Running experiment: vit_polynomial\n",
            "==================================================\n",
            "\n"
          ]
        },
        {
          "output_type": "display_data",
          "data": {
            "text/plain": [
              "<IPython.core.display.HTML object>"
            ],
            "text/html": []
          },
          "metadata": {}
        },
        {
          "output_type": "display_data",
          "data": {
            "text/plain": [
              "<IPython.core.display.HTML object>"
            ],
            "text/html": [
              " View run <strong style=\"color:#cdcd00\">vit_polynomial</strong> at: <a href='https://wandb.ai/dl_project_sp25/ViT-LR-Schedulers/runs/pmvk53lf' target=\"_blank\">https://wandb.ai/dl_project_sp25/ViT-LR-Schedulers/runs/pmvk53lf</a><br> View project at: <a href='https://wandb.ai/dl_project_sp25/ViT-LR-Schedulers' target=\"_blank\">https://wandb.ai/dl_project_sp25/ViT-LR-Schedulers</a><br>Synced 5 W&B file(s), 0 media file(s), 0 artifact file(s) and 0 other file(s)"
            ]
          },
          "metadata": {}
        },
        {
          "output_type": "display_data",
          "data": {
            "text/plain": [
              "<IPython.core.display.HTML object>"
            ],
            "text/html": [
              "Find logs at: <code>./wandb/run-20250416_095130-pmvk53lf/logs</code>"
            ]
          },
          "metadata": {}
        },
        {
          "output_type": "display_data",
          "data": {
            "text/plain": [
              "<IPython.core.display.HTML object>"
            ],
            "text/html": [
              "Tracking run with wandb version 0.19.9"
            ]
          },
          "metadata": {}
        },
        {
          "output_type": "display_data",
          "data": {
            "text/plain": [
              "<IPython.core.display.HTML object>"
            ],
            "text/html": [
              "Run data is saved locally in <code>/content/wandb/run-20250416_095434-dwv6tdtx</code>"
            ]
          },
          "metadata": {}
        },
        {
          "output_type": "display_data",
          "data": {
            "text/plain": [
              "<IPython.core.display.HTML object>"
            ],
            "text/html": [
              "Syncing run <strong><a href='https://wandb.ai/dl_project_sp25/ViT-LR-Schedulers/runs/dwv6tdtx' target=\"_blank\">vit_polynomial</a></strong> to <a href='https://wandb.ai/dl_project_sp25/ViT-LR-Schedulers' target=\"_blank\">Weights & Biases</a> (<a href='https://wandb.me/developer-guide' target=\"_blank\">docs</a>)<br>"
            ]
          },
          "metadata": {}
        },
        {
          "output_type": "display_data",
          "data": {
            "text/plain": [
              "<IPython.core.display.HTML object>"
            ],
            "text/html": [
              " View project at <a href='https://wandb.ai/dl_project_sp25/ViT-LR-Schedulers' target=\"_blank\">https://wandb.ai/dl_project_sp25/ViT-LR-Schedulers</a>"
            ]
          },
          "metadata": {}
        },
        {
          "output_type": "display_data",
          "data": {
            "text/plain": [
              "<IPython.core.display.HTML object>"
            ],
            "text/html": [
              " View run at <a href='https://wandb.ai/dl_project_sp25/ViT-LR-Schedulers/runs/dwv6tdtx' target=\"_blank\">https://wandb.ai/dl_project_sp25/ViT-LR-Schedulers/runs/dwv6tdtx</a>"
            ]
          },
          "metadata": {}
        },
        {
          "output_type": "stream",
          "name": "stderr",
          "text": [
            "/usr/local/lib/python3.11/dist-packages/huggingface_hub/file_download.py:896: FutureWarning: `resume_download` is deprecated and will be removed in version 1.0.0. Downloads always resume when possible. If you want to force a new download, use `force_download=True`.\n",
            "  warnings.warn(\n"
          ]
        },
        {
          "output_type": "stream",
          "name": "stdout",
          "text": [
            "Loading dataset: jbarat/plant_species\n",
            "Dataset prepared with 720 training, 80 validation, and 80 test examples\n"
          ]
        },
        {
          "output_type": "stream",
          "name": "stderr",
          "text": [
            "Some weights of the model checkpoint at google/vit-base-patch16-224-in21k were not used when initializing ViTForImageClassification: ['pooler.dense.weight', 'pooler.dense.bias']\n",
            "- This IS expected if you are initializing ViTForImageClassification from the checkpoint of a model trained on another task or with another architecture (e.g. initializing a BertForSequenceClassification model from a BertForPreTraining model).\n",
            "- This IS NOT expected if you are initializing ViTForImageClassification from the checkpoint of a model that you expect to be exactly identical (initializing a BertForSequenceClassification model from a BertForSequenceClassification model).\n",
            "Some weights of ViTForImageClassification were not initialized from the model checkpoint at google/vit-base-patch16-224-in21k and are newly initialized: ['classifier.weight', 'classifier.bias']\n",
            "You should probably TRAIN this model on a down-stream task to be able to use it for predictions and inference.\n"
          ]
        },
        {
          "output_type": "stream",
          "name": "stdout",
          "text": [
            "Starting training for vit_polynomial...\n"
          ]
        },
        {
          "output_type": "display_data",
          "data": {
            "text/plain": [
              "<IPython.core.display.HTML object>"
            ],
            "text/html": [
              "\n",
              "    <div>\n",
              "      \n",
              "      <progress value='45' max='45' style='width:300px; height:20px; vertical-align: middle;'></progress>\n",
              "      [45/45 01:54, Epoch 1/1]\n",
              "    </div>\n",
              "    <table border=\"1\" class=\"dataframe\">\n",
              "  <thead>\n",
              " <tr style=\"text-align: left;\">\n",
              "      <th>Epoch</th>\n",
              "      <th>Training Loss</th>\n",
              "      <th>Validation Loss</th>\n",
              "      <th>Accuracy</th>\n",
              "      <th>F1</th>\n",
              "      <th>Precision</th>\n",
              "      <th>Recall</th>\n",
              "    </tr>\n",
              "  </thead>\n",
              "  <tbody>\n",
              "    <tr>\n",
              "      <td>1</td>\n",
              "      <td>No log</td>\n",
              "      <td>1.666211</td>\n",
              "      <td>0.800000</td>\n",
              "      <td>0.796074</td>\n",
              "      <td>0.819241</td>\n",
              "      <td>0.800000</td>\n",
              "    </tr>\n",
              "  </tbody>\n",
              "</table><p>"
            ]
          },
          "metadata": {}
        },
        {
          "output_type": "stream",
          "name": "stdout",
          "text": [
            "Evaluating vit_polynomial...\n"
          ]
        },
        {
          "output_type": "display_data",
          "data": {
            "text/plain": [
              "<IPython.core.display.HTML object>"
            ],
            "text/html": [
              "\n",
              "    <div>\n",
              "      \n",
              "      <progress value='5' max='5' style='width:300px; height:20px; vertical-align: middle;'></progress>\n",
              "      [5/5 00:07]\n",
              "    </div>\n",
              "    "
            ]
          },
          "metadata": {}
        },
        {
          "output_type": "display_data",
          "data": {
            "text/plain": [
              "<IPython.core.display.HTML object>"
            ],
            "text/html": []
          },
          "metadata": {}
        },
        {
          "output_type": "display_data",
          "data": {
            "text/plain": [
              "<IPython.core.display.HTML object>"
            ],
            "text/html": [
              "<br>    <style><br>        .wandb-row {<br>            display: flex;<br>            flex-direction: row;<br>            flex-wrap: wrap;<br>            justify-content: flex-start;<br>            width: 100%;<br>        }<br>        .wandb-col {<br>            display: flex;<br>            flex-direction: column;<br>            flex-basis: 100%;<br>            flex: 1;<br>            padding: 10px;<br>        }<br>    </style><br><div class=\"wandb-row\"><div class=\"wandb-col\"><h3>Run history:</h3><br/><table class=\"wandb\"><tr><td>eval/accuracy</td><td>▁▁</td></tr><tr><td>eval/f1</td><td>▁▁</td></tr><tr><td>eval/loss</td><td>▁▁</td></tr><tr><td>eval/precision</td><td>▁▁</td></tr><tr><td>eval/recall</td><td>▁▁</td></tr><tr><td>eval/runtime</td><td>▁█</td></tr><tr><td>eval/samples_per_second</td><td>█▁</td></tr><tr><td>eval/steps_per_second</td><td>█▁</td></tr><tr><td>final_accuracy</td><td>▁</td></tr><tr><td>final_f1</td><td>▁</td></tr><tr><td>final_precision</td><td>▁</td></tr><tr><td>final_recall</td><td>▁</td></tr><tr><td>train/epoch</td><td>▁▁▁</td></tr><tr><td>train/global_step</td><td>▁▁▁▁</td></tr><tr><td>train/total_flos</td><td>▁</td></tr><tr><td>train/train_loss</td><td>▁</td></tr><tr><td>train/train_runtime</td><td>▁</td></tr><tr><td>train/train_samples_per_second</td><td>▁</td></tr><tr><td>train/train_steps_per_second</td><td>▁</td></tr></table><br/></div><div class=\"wandb-col\"><h3>Run summary:</h3><br/><table class=\"wandb\"><tr><td>eval/accuracy</td><td>0.8</td></tr><tr><td>eval/f1</td><td>0.79607</td></tr><tr><td>eval/loss</td><td>1.66621</td></tr><tr><td>eval/precision</td><td>0.81924</td></tr><tr><td>eval/recall</td><td>0.8</td></tr><tr><td>eval/runtime</td><td>9.1026</td></tr><tr><td>eval/samples_per_second</td><td>8.789</td></tr><tr><td>eval/steps_per_second</td><td>0.549</td></tr><tr><td>final_accuracy</td><td>0.8</td></tr><tr><td>final_f1</td><td>0.79607</td></tr><tr><td>final_precision</td><td>0.81924</td></tr><tr><td>final_recall</td><td>0.8</td></tr><tr><td>train/epoch</td><td>1</td></tr><tr><td>train/global_step</td><td>45</td></tr><tr><td>train/total_flos</td><td>5.579723291885568e+16</td></tr><tr><td>train/train_loss</td><td>1.86223</td></tr><tr><td>train/train_runtime</td><td>116.5592</td></tr><tr><td>train/train_samples_per_second</td><td>6.177</td></tr><tr><td>train/train_steps_per_second</td><td>0.386</td></tr></table><br/></div></div>"
            ]
          },
          "metadata": {}
        },
        {
          "output_type": "display_data",
          "data": {
            "text/plain": [
              "<IPython.core.display.HTML object>"
            ],
            "text/html": [
              " View run <strong style=\"color:#cdcd00\">vit_polynomial</strong> at: <a href='https://wandb.ai/dl_project_sp25/ViT-LR-Schedulers/runs/dwv6tdtx' target=\"_blank\">https://wandb.ai/dl_project_sp25/ViT-LR-Schedulers/runs/dwv6tdtx</a><br> View project at: <a href='https://wandb.ai/dl_project_sp25/ViT-LR-Schedulers' target=\"_blank\">https://wandb.ai/dl_project_sp25/ViT-LR-Schedulers</a><br>Synced 5 W&B file(s), 0 media file(s), 0 artifact file(s) and 0 other file(s)"
            ]
          },
          "metadata": {}
        },
        {
          "output_type": "display_data",
          "data": {
            "text/plain": [
              "<IPython.core.display.HTML object>"
            ],
            "text/html": [
              "Find logs at: <code>./wandb/run-20250416_095434-dwv6tdtx/logs</code>"
            ]
          },
          "metadata": {}
        },
        {
          "output_type": "stream",
          "name": "stdout",
          "text": [
            "\n",
            "==================================================\n",
            "Running experiment: vit_constant_warmup\n",
            "==================================================\n",
            "\n"
          ]
        },
        {
          "output_type": "display_data",
          "data": {
            "text/plain": [
              "<IPython.core.display.HTML object>"
            ],
            "text/html": [
              "Tracking run with wandb version 0.19.9"
            ]
          },
          "metadata": {}
        },
        {
          "output_type": "display_data",
          "data": {
            "text/plain": [
              "<IPython.core.display.HTML object>"
            ],
            "text/html": [
              "Run data is saved locally in <code>/content/wandb/run-20250416_095645-ewyhdgzr</code>"
            ]
          },
          "metadata": {}
        },
        {
          "output_type": "display_data",
          "data": {
            "text/plain": [
              "<IPython.core.display.HTML object>"
            ],
            "text/html": [
              "Syncing run <strong><a href='https://wandb.ai/dl_project_sp25/ViT-LR-Schedulers/runs/ewyhdgzr' target=\"_blank\">vit_constant_warmup</a></strong> to <a href='https://wandb.ai/dl_project_sp25/ViT-LR-Schedulers' target=\"_blank\">Weights & Biases</a> (<a href='https://wandb.me/developer-guide' target=\"_blank\">docs</a>)<br>"
            ]
          },
          "metadata": {}
        },
        {
          "output_type": "display_data",
          "data": {
            "text/plain": [
              "<IPython.core.display.HTML object>"
            ],
            "text/html": [
              " View project at <a href='https://wandb.ai/dl_project_sp25/ViT-LR-Schedulers' target=\"_blank\">https://wandb.ai/dl_project_sp25/ViT-LR-Schedulers</a>"
            ]
          },
          "metadata": {}
        },
        {
          "output_type": "display_data",
          "data": {
            "text/plain": [
              "<IPython.core.display.HTML object>"
            ],
            "text/html": [
              " View run at <a href='https://wandb.ai/dl_project_sp25/ViT-LR-Schedulers/runs/ewyhdgzr' target=\"_blank\">https://wandb.ai/dl_project_sp25/ViT-LR-Schedulers/runs/ewyhdgzr</a>"
            ]
          },
          "metadata": {}
        },
        {
          "output_type": "stream",
          "name": "stderr",
          "text": [
            "/usr/local/lib/python3.11/dist-packages/huggingface_hub/file_download.py:896: FutureWarning: `resume_download` is deprecated and will be removed in version 1.0.0. Downloads always resume when possible. If you want to force a new download, use `force_download=True`.\n",
            "  warnings.warn(\n"
          ]
        },
        {
          "output_type": "stream",
          "name": "stdout",
          "text": [
            "Loading dataset: jbarat/plant_species\n",
            "Dataset prepared with 720 training, 80 validation, and 80 test examples\n"
          ]
        },
        {
          "output_type": "stream",
          "name": "stderr",
          "text": [
            "Some weights of the model checkpoint at google/vit-base-patch16-224-in21k were not used when initializing ViTForImageClassification: ['pooler.dense.weight', 'pooler.dense.bias']\n",
            "- This IS expected if you are initializing ViTForImageClassification from the checkpoint of a model trained on another task or with another architecture (e.g. initializing a BertForSequenceClassification model from a BertForPreTraining model).\n",
            "- This IS NOT expected if you are initializing ViTForImageClassification from the checkpoint of a model that you expect to be exactly identical (initializing a BertForSequenceClassification model from a BertForSequenceClassification model).\n",
            "Some weights of ViTForImageClassification were not initialized from the model checkpoint at google/vit-base-patch16-224-in21k and are newly initialized: ['classifier.weight', 'classifier.bias']\n",
            "You should probably TRAIN this model on a down-stream task to be able to use it for predictions and inference.\n"
          ]
        },
        {
          "output_type": "stream",
          "name": "stdout",
          "text": [
            "Starting training for vit_constant_warmup...\n"
          ]
        },
        {
          "output_type": "display_data",
          "data": {
            "text/plain": [
              "<IPython.core.display.HTML object>"
            ],
            "text/html": [
              "\n",
              "    <div>\n",
              "      \n",
              "      <progress value='45' max='45' style='width:300px; height:20px; vertical-align: middle;'></progress>\n",
              "      [45/45 01:53, Epoch 1/1]\n",
              "    </div>\n",
              "    <table border=\"1\" class=\"dataframe\">\n",
              "  <thead>\n",
              " <tr style=\"text-align: left;\">\n",
              "      <th>Epoch</th>\n",
              "      <th>Training Loss</th>\n",
              "      <th>Validation Loss</th>\n",
              "      <th>Accuracy</th>\n",
              "      <th>F1</th>\n",
              "      <th>Precision</th>\n",
              "      <th>Recall</th>\n",
              "    </tr>\n",
              "  </thead>\n",
              "  <tbody>\n",
              "    <tr>\n",
              "      <td>1</td>\n",
              "      <td>No log</td>\n",
              "      <td>1.372485</td>\n",
              "      <td>0.800000</td>\n",
              "      <td>0.788559</td>\n",
              "      <td>0.838571</td>\n",
              "      <td>0.800000</td>\n",
              "    </tr>\n",
              "  </tbody>\n",
              "</table><p>"
            ]
          },
          "metadata": {}
        },
        {
          "output_type": "stream",
          "name": "stdout",
          "text": [
            "Evaluating vit_constant_warmup...\n"
          ]
        },
        {
          "output_type": "display_data",
          "data": {
            "text/plain": [
              "<IPython.core.display.HTML object>"
            ],
            "text/html": [
              "\n",
              "    <div>\n",
              "      \n",
              "      <progress value='5' max='5' style='width:300px; height:20px; vertical-align: middle;'></progress>\n",
              "      [5/5 00:11]\n",
              "    </div>\n",
              "    "
            ]
          },
          "metadata": {}
        },
        {
          "output_type": "display_data",
          "data": {
            "text/plain": [
              "<IPython.core.display.HTML object>"
            ],
            "text/html": []
          },
          "metadata": {}
        },
        {
          "output_type": "display_data",
          "data": {
            "text/plain": [
              "<IPython.core.display.HTML object>"
            ],
            "text/html": [
              "<br>    <style><br>        .wandb-row {<br>            display: flex;<br>            flex-direction: row;<br>            flex-wrap: wrap;<br>            justify-content: flex-start;<br>            width: 100%;<br>        }<br>        .wandb-col {<br>            display: flex;<br>            flex-direction: column;<br>            flex-basis: 100%;<br>            flex: 1;<br>            padding: 10px;<br>        }<br>    </style><br><div class=\"wandb-row\"><div class=\"wandb-col\"><h3>Run history:</h3><br/><table class=\"wandb\"><tr><td>eval/accuracy</td><td>▁▁</td></tr><tr><td>eval/f1</td><td>▁▁</td></tr><tr><td>eval/loss</td><td>▁▁</td></tr><tr><td>eval/precision</td><td>▁▁</td></tr><tr><td>eval/recall</td><td>▁▁</td></tr><tr><td>eval/runtime</td><td>▁█</td></tr><tr><td>eval/samples_per_second</td><td>█▁</td></tr><tr><td>eval/steps_per_second</td><td>█▁</td></tr><tr><td>final_accuracy</td><td>▁</td></tr><tr><td>final_f1</td><td>▁</td></tr><tr><td>final_precision</td><td>▁</td></tr><tr><td>final_recall</td><td>▁</td></tr><tr><td>train/epoch</td><td>▁▁▁</td></tr><tr><td>train/global_step</td><td>▁▁▁▁</td></tr><tr><td>train/total_flos</td><td>▁</td></tr><tr><td>train/train_loss</td><td>▁</td></tr><tr><td>train/train_runtime</td><td>▁</td></tr><tr><td>train/train_samples_per_second</td><td>▁</td></tr><tr><td>train/train_steps_per_second</td><td>▁</td></tr></table><br/></div><div class=\"wandb-col\"><h3>Run summary:</h3><br/><table class=\"wandb\"><tr><td>eval/accuracy</td><td>0.8</td></tr><tr><td>eval/f1</td><td>0.78856</td></tr><tr><td>eval/loss</td><td>1.37249</td></tr><tr><td>eval/precision</td><td>0.83857</td></tr><tr><td>eval/recall</td><td>0.8</td></tr><tr><td>eval/runtime</td><td>13.2569</td></tr><tr><td>eval/samples_per_second</td><td>6.035</td></tr><tr><td>eval/steps_per_second</td><td>0.377</td></tr><tr><td>final_accuracy</td><td>0.8</td></tr><tr><td>final_f1</td><td>0.78856</td></tr><tr><td>final_precision</td><td>0.83857</td></tr><tr><td>final_recall</td><td>0.8</td></tr><tr><td>train/epoch</td><td>1</td></tr><tr><td>train/global_step</td><td>45</td></tr><tr><td>train/total_flos</td><td>5.579723291885568e+16</td></tr><tr><td>train/train_loss</td><td>1.76998</td></tr><tr><td>train/train_runtime</td><td>115.1239</td></tr><tr><td>train/train_samples_per_second</td><td>6.254</td></tr><tr><td>train/train_steps_per_second</td><td>0.391</td></tr></table><br/></div></div>"
            ]
          },
          "metadata": {}
        },
        {
          "output_type": "display_data",
          "data": {
            "text/plain": [
              "<IPython.core.display.HTML object>"
            ],
            "text/html": [
              " View run <strong style=\"color:#cdcd00\">vit_constant_warmup</strong> at: <a href='https://wandb.ai/dl_project_sp25/ViT-LR-Schedulers/runs/ewyhdgzr' target=\"_blank\">https://wandb.ai/dl_project_sp25/ViT-LR-Schedulers/runs/ewyhdgzr</a><br> View project at: <a href='https://wandb.ai/dl_project_sp25/ViT-LR-Schedulers' target=\"_blank\">https://wandb.ai/dl_project_sp25/ViT-LR-Schedulers</a><br>Synced 5 W&B file(s), 0 media file(s), 0 artifact file(s) and 0 other file(s)"
            ]
          },
          "metadata": {}
        },
        {
          "output_type": "display_data",
          "data": {
            "text/plain": [
              "<IPython.core.display.HTML object>"
            ],
            "text/html": [
              "Find logs at: <code>./wandb/run-20250416_095645-ewyhdgzr/logs</code>"
            ]
          },
          "metadata": {}
        },
        {
          "output_type": "stream",
          "name": "stdout",
          "text": [
            "\n",
            "==================================================\n",
            "Running experiment: vit_cosine_lr_1e-05\n",
            "==================================================\n",
            "\n"
          ]
        },
        {
          "output_type": "display_data",
          "data": {
            "text/plain": [
              "<IPython.core.display.HTML object>"
            ],
            "text/html": [
              "Tracking run with wandb version 0.19.9"
            ]
          },
          "metadata": {}
        },
        {
          "output_type": "display_data",
          "data": {
            "text/plain": [
              "<IPython.core.display.HTML object>"
            ],
            "text/html": [
              "Run data is saved locally in <code>/content/wandb/run-20250416_095858-ucrgyp0f</code>"
            ]
          },
          "metadata": {}
        },
        {
          "output_type": "display_data",
          "data": {
            "text/plain": [
              "<IPython.core.display.HTML object>"
            ],
            "text/html": [
              "Syncing run <strong><a href='https://wandb.ai/dl_project_sp25/ViT-LR-Schedulers/runs/ucrgyp0f' target=\"_blank\">vit_cosine_lr_1e-05</a></strong> to <a href='https://wandb.ai/dl_project_sp25/ViT-LR-Schedulers' target=\"_blank\">Weights & Biases</a> (<a href='https://wandb.me/developer-guide' target=\"_blank\">docs</a>)<br>"
            ]
          },
          "metadata": {}
        },
        {
          "output_type": "display_data",
          "data": {
            "text/plain": [
              "<IPython.core.display.HTML object>"
            ],
            "text/html": [
              " View project at <a href='https://wandb.ai/dl_project_sp25/ViT-LR-Schedulers' target=\"_blank\">https://wandb.ai/dl_project_sp25/ViT-LR-Schedulers</a>"
            ]
          },
          "metadata": {}
        },
        {
          "output_type": "display_data",
          "data": {
            "text/plain": [
              "<IPython.core.display.HTML object>"
            ],
            "text/html": [
              " View run at <a href='https://wandb.ai/dl_project_sp25/ViT-LR-Schedulers/runs/ucrgyp0f' target=\"_blank\">https://wandb.ai/dl_project_sp25/ViT-LR-Schedulers/runs/ucrgyp0f</a>"
            ]
          },
          "metadata": {}
        },
        {
          "output_type": "stream",
          "name": "stderr",
          "text": [
            "/usr/local/lib/python3.11/dist-packages/huggingface_hub/file_download.py:896: FutureWarning: `resume_download` is deprecated and will be removed in version 1.0.0. Downloads always resume when possible. If you want to force a new download, use `force_download=True`.\n",
            "  warnings.warn(\n"
          ]
        },
        {
          "output_type": "stream",
          "name": "stdout",
          "text": [
            "Loading dataset: jbarat/plant_species\n",
            "Dataset prepared with 720 training, 80 validation, and 80 test examples\n"
          ]
        },
        {
          "output_type": "stream",
          "name": "stderr",
          "text": [
            "Some weights of the model checkpoint at google/vit-base-patch16-224-in21k were not used when initializing ViTForImageClassification: ['pooler.dense.weight', 'pooler.dense.bias']\n",
            "- This IS expected if you are initializing ViTForImageClassification from the checkpoint of a model trained on another task or with another architecture (e.g. initializing a BertForSequenceClassification model from a BertForPreTraining model).\n",
            "- This IS NOT expected if you are initializing ViTForImageClassification from the checkpoint of a model that you expect to be exactly identical (initializing a BertForSequenceClassification model from a BertForSequenceClassification model).\n",
            "Some weights of ViTForImageClassification were not initialized from the model checkpoint at google/vit-base-patch16-224-in21k and are newly initialized: ['classifier.weight', 'classifier.bias']\n",
            "You should probably TRAIN this model on a down-stream task to be able to use it for predictions and inference.\n"
          ]
        },
        {
          "output_type": "stream",
          "name": "stdout",
          "text": [
            "Starting training for vit_cosine_lr_1e-05...\n"
          ]
        },
        {
          "output_type": "display_data",
          "data": {
            "text/plain": [
              "<IPython.core.display.HTML object>"
            ],
            "text/html": [
              "\n",
              "    <div>\n",
              "      \n",
              "      <progress value='44' max='45' style='width:300px; height:20px; vertical-align: middle;'></progress>\n",
              "      [44/45 01:46 < 00:02, 0.39 it/s, Epoch 0.96/1]\n",
              "    </div>\n",
              "    <table border=\"1\" class=\"dataframe\">\n",
              "  <thead>\n",
              " <tr style=\"text-align: left;\">\n",
              "      <th>Epoch</th>\n",
              "      <th>Training Loss</th>\n",
              "      <th>Validation Loss</th>\n",
              "    </tr>\n",
              "  </thead>\n",
              "  <tbody>\n",
              "  </tbody>\n",
              "</table><p>"
            ]
          },
          "metadata": {}
        }
      ]
    },
    {
      "cell_type": "code",
      "source": [],
      "metadata": {
        "id": "4qDvexvZtJm_"
      },
      "execution_count": 53,
      "outputs": []
    },
    {
      "cell_type": "code",
      "source": [],
      "metadata": {
        "id": "FIXedskG8BH3"
      },
      "execution_count": null,
      "outputs": []
    }
  ]
}