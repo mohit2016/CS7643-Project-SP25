{
  "cells": [
    {
      "cell_type": "code",
      "execution_count": null,
      "metadata": {
        "id": "LYSEhsPs0Ulr",
        "outputId": "e0285043-1aa0-41a9-a1df-520a1e2c86e6"
      },
      "outputs": [
        {
          "name": "stdout",
          "output_type": "stream",
          "text": [
            "Collecting nbformat\n",
            "  Downloading nbformat-5.10.4-py3-none-any.whl.metadata (3.6 kB)\n",
            "Collecting fastjsonschema>=2.15 (from nbformat)\n",
            "  Downloading fastjsonschema-2.21.1-py3-none-any.whl.metadata (2.2 kB)\n",
            "Collecting jsonschema>=2.6 (from nbformat)\n",
            "  Using cached jsonschema-4.23.0-py3-none-any.whl.metadata (7.9 kB)\n",
            "Requirement already satisfied: jupyter-core!=5.0.*,>=4.12 in ./.venv/lib/python3.11/site-packages (from nbformat) (5.7.2)\n",
            "Requirement already satisfied: traitlets>=5.1 in ./.venv/lib/python3.11/site-packages (from nbformat) (5.14.3)\n",
            "Requirement already satisfied: attrs>=22.2.0 in ./.venv/lib/python3.11/site-packages (from jsonschema>=2.6->nbformat) (25.3.0)\n",
            "Collecting jsonschema-specifications>=2023.03.6 (from jsonschema>=2.6->nbformat)\n",
            "  Using cached jsonschema_specifications-2024.10.1-py3-none-any.whl.metadata (3.0 kB)\n",
            "Collecting referencing>=0.28.4 (from jsonschema>=2.6->nbformat)\n",
            "  Using cached referencing-0.36.2-py3-none-any.whl.metadata (2.8 kB)\n",
            "Collecting rpds-py>=0.7.1 (from jsonschema>=2.6->nbformat)\n",
            "  Using cached rpds_py-0.24.0-cp311-cp311-macosx_11_0_arm64.whl.metadata (4.1 kB)\n",
            "Requirement already satisfied: platformdirs>=2.5 in ./.venv/lib/python3.11/site-packages (from jupyter-core!=5.0.*,>=4.12->nbformat) (4.3.7)\n",
            "Requirement already satisfied: typing-extensions>=4.4.0 in ./.venv/lib/python3.11/site-packages (from referencing>=0.28.4->jsonschema>=2.6->nbformat) (4.13.2)\n",
            "Downloading nbformat-5.10.4-py3-none-any.whl (78 kB)\n",
            "Downloading fastjsonschema-2.21.1-py3-none-any.whl (23 kB)\n",
            "Using cached jsonschema-4.23.0-py3-none-any.whl (88 kB)\n",
            "Using cached jsonschema_specifications-2024.10.1-py3-none-any.whl (18 kB)\n",
            "Using cached referencing-0.36.2-py3-none-any.whl (26 kB)\n",
            "Using cached rpds_py-0.24.0-cp311-cp311-macosx_11_0_arm64.whl (362 kB)\n",
            "Installing collected packages: fastjsonschema, rpds-py, referencing, jsonschema-specifications, jsonschema, nbformat\n",
            "Successfully installed fastjsonschema-2.21.1 jsonschema-4.23.0 jsonschema-specifications-2024.10.1 nbformat-5.10.4 referencing-0.36.2 rpds-py-0.24.0\n"
          ]
        }
      ],
      "source": [
        "# !pip install --upgrade pip\n",
        "# !pip install tokenizers\n",
        "# !pip install datasets --upgrade evaluate\n",
        "# !pip install transformers\n",
        "# !pip install numpy torch matplotlib pandas scikit-learn tqdm pillow\n",
        "# !pip install datasets evaluate transformers\n",
        "# !pip install torchvision\n",
        "# !pip install setuptools\n",
        "# !pip install wandb\n",
        "# !pip show wandb\n",
        "# !pip install schedulefree\n",
        "# !pip install nbformat"
      ]
    },
    {
      "cell_type": "code",
      "execution_count": null,
      "metadata": {
        "id": "nW76RvsBd0lZ",
        "outputId": "b8baebfa-b9de-4efd-e82b-fb778af23954"
      },
      "outputs": [
        {
          "name": "stderr",
          "output_type": "stream",
          "text": [
            "/Users/egoh02/Github/CS7643-Project-SP25/.venv/lib/python3.11/site-packages/tqdm/auto.py:21: TqdmWarning: IProgress not found. Please update jupyter and ipywidgets. See https://ipywidgets.readthedocs.io/en/stable/user_install.html\n",
            "  from .autonotebook import tqdm as notebook_tqdm\n"
          ]
        }
      ],
      "source": [
        "import os\n",
        "import numpy as np\n",
        "import torch\n",
        "import matplotlib.pyplot as plt\n",
        "import pandas as pd\n",
        "from datasets import load_dataset\n",
        "from evaluate import load\n",
        "from transformers import (\n",
        "    ViTFeatureExtractor,\n",
        "    ViTForImageClassification,\n",
        "    TrainingArguments,\n",
        "    Trainer,\n",
        "    get_scheduler,\n",
        "    AutoImageProcessor\n",
        ")\n",
        "\n",
        "from torch.optim import AdamW, SGD\n",
        "import wandb\n",
        "from sklearn.metrics import accuracy_score, precision_recall_fscore_support\n",
        "import torchvision.transforms as transforms\n",
        "from PIL import Image\n",
        "import random\n",
        "from tqdm.auto import tqdm\n",
        "from sklearn.metrics import confusion_matrix"
      ]
    },
    {
      "cell_type": "code",
      "execution_count": null,
      "metadata": {
        "id": "hsPdHp-P0Ult"
      },
      "outputs": [],
      "source": [
        "sweep_config = {\n",
        "    \"method\": \"grid\",  # we cna use \"grid\", \"random\", or \"bayes\"\n",
        "    \"metric\": {\n",
        "        \"name\": \"val_accuracy\",  # Metric to optimize\n",
        "        \"goal\": \"maximize\"       # Goal: maximize or minimize\n",
        "    },\n",
        "    \"parameters\": {\n",
        "        \"optimizer_name\": {\n",
        "            \"values\": [\"AdamW\", \"SGD\", \"RMSProp\", \"AdaGrad\", \"schedule_free_adamw\"]  # Optimizers to test\n",
        "        },\n",
        "        \"learning_rate\": {\n",
        "            \"values\": [2e-5, 2e-4, 2e-3, 2e-2, 2e-1]  # Fixed learning rate for simplicity\n",
        "        },\n",
        "        \"batch_size\": {\n",
        "            \"values\": [16]  # Fixed batch size\n",
        "        },\n",
        "        \"num_epochs\": {\n",
        "            \"values\": [3]  # Fixed number of epochs\n",
        "        },\n",
        "        \"scheduler_name\": {\n",
        "            \"values\": [\"cosine\"]  # Fixed scheduler for simplicity\n",
        "        }\n",
        "    }\n",
        "}"
      ]
    },
    {
      "cell_type": "code",
      "execution_count": null,
      "metadata": {
        "id": "M5m2CPNN0Ulu"
      },
      "outputs": [],
      "source": [
        "# Set seed for reproducibility\n",
        "def set_seed(seed=42):\n",
        "    random.seed(seed)\n",
        "    np.random.seed(seed)\n",
        "    torch.manual_seed(seed)\n",
        "    torch.cuda.manual_seed_all(seed)\n",
        "\n",
        "set_seed()\n",
        "\n",
        "# Initialize experiment tracking\n",
        "def init_wandb(project_name, experiment_name, config):\n",
        "    return wandb.init(\n",
        "        # entity=\"dl_project_sp25\",\n",
        "        project=project_name,\n",
        "        name=experiment_name,\n",
        "        config=config,\n",
        "        reinit=True\n",
        "    )\n",
        "\n",
        "# Load and prepare dataset\n",
        "def prepare_dataset(dataset_name, image_processor):\n",
        "    \"\"\"\n",
        "    Load and prepare a dataset from Hugging Face for ViT fine-tuning\n",
        "    \"\"\"\n",
        "    # Load the dataset\n",
        "    print(f\"Loading dataset: {dataset_name}\")\n",
        "    dataset = load_dataset(dataset_name)\n",
        "\n",
        "    # Get label information\n",
        "    if \"label\" in dataset[\"train\"].features:\n",
        "        labels = dataset[\"train\"].features[\"label\"].names\n",
        "    elif \"labels\" in dataset[\"train\"].features:\n",
        "        labels = dataset[\"train\"].features[\"labels\"].names\n",
        "    else:\n",
        "        # Count unique labels and create labels list\n",
        "        all_labels = dataset[\"train\"][0][\"label\"] if \"label\" in dataset[\"train\"][0] else dataset[\"train\"][0][\"labels\"]\n",
        "        num_labels = len(set(all_labels))\n",
        "        labels = [str(i) for i in range(num_labels)]\n",
        "\n",
        "    # Create label mappings\n",
        "    label2id = {label: i for i, label in enumerate(labels)}\n",
        "    id2label = {i: label for i, label in enumerate(labels)}\n",
        "\n",
        "    # Set up image transformations based on the model's requirements\n",
        "    normalize = transforms.Normalize(\n",
        "        mean=image_processor.image_mean,\n",
        "        std=image_processor.image_std\n",
        "    )\n",
        "\n",
        "    # Get the expected image size\n",
        "    if \"shortest_edge\" in image_processor.size:\n",
        "        size = image_processor.size[\"shortest_edge\"]\n",
        "    else:\n",
        "        size = (image_processor.size[\"height\"], image_processor.size[\"width\"])\n",
        "\n",
        "    # Define transforms for training data\n",
        "    train_transforms = transforms.Compose([\n",
        "        transforms.RandomResizedCrop(size),\n",
        "        transforms.RandomHorizontalFlip(),\n",
        "        transforms.ToTensor(),\n",
        "        normalize,\n",
        "    ])\n",
        "\n",
        "    # Define transforms for validation/test data\n",
        "    val_transforms = transforms.Compose([\n",
        "        transforms.Resize(size),\n",
        "        transforms.CenterCrop(size),\n",
        "        transforms.ToTensor(),\n",
        "        normalize,\n",
        "    ])\n",
        "\n",
        "    # Apply transformations to the dataset\n",
        "    def preprocess_train(examples):\n",
        "        examples[\"pixel_values\"] = [\n",
        "            train_transforms(image.convert(\"RGB\"))\n",
        "            for image in examples[\"image\"]\n",
        "        ]\n",
        "        return examples\n",
        "\n",
        "    def preprocess_val(examples):\n",
        "        examples[\"pixel_values\"] = [\n",
        "            val_transforms(image.convert(\"RGB\"))\n",
        "            for image in examples[\"image\"]\n",
        "        ]\n",
        "        return examples\n",
        "\n",
        "    # Apply preprocessing to each split\n",
        "    train_dataset = dataset[\"train\"].map(\n",
        "        preprocess_train, batched=True, remove_columns=[\"image\"]\n",
        "    )\n",
        "\n",
        "    if \"validation\" in dataset:\n",
        "        val_dataset = dataset[\"validation\"].map(\n",
        "            preprocess_val, batched=True, remove_columns=[\"image\"]\n",
        "        )\n",
        "\n",
        "    else:\n",
        "        # Create a validation split if none exists\n",
        "        splits = train_dataset.train_test_split(test_size=0.2, seed=42)\n",
        "        train_dataset = splits[\"train\"]\n",
        "        val_dataset = splits[\"test\"]\n",
        "\n",
        "    if \"test\" in dataset:\n",
        "        test_dataset = dataset[\"test\"].map(\n",
        "            preprocess_val, batched=True, remove_columns=[\"image\"]\n",
        "        )\n",
        "    else:\n",
        "        # test_dataset = val_dataset    #split further rather than using validation as test dataset\n",
        "\n",
        "        # Further split validation dataset to create a test dataset\n",
        "        test_split = val_dataset.train_test_split(test_size=0.2, seed=42)\n",
        "        val_dataset = test_split[\"train\"]  # Update validation dataset\n",
        "        test_dataset = test_split[\"test\"]  # Create test dataset\n",
        "\n",
        "    print(f\"Dataset prepared with {len(train_dataset)} training, {len(val_dataset)} validation, and {len(test_dataset)} test examples\")\n",
        "\n",
        "    return train_dataset, val_dataset, test_dataset, id2label, label2id\n",
        "\n",
        "# Define compute_metrics function for evaluation\n",
        "def compute_metrics(eval_pred):\n",
        "    predictions, labels = eval_pred\n",
        "    predictions = np.argmax(predictions, axis=1)\n",
        "    precision, recall, f1, _ = precision_recall_fscore_support(labels, predictions, average='weighted')\n",
        "    acc = accuracy_score(labels, predictions)\n",
        "\n",
        "    return {\n",
        "        'accuracy': acc,\n",
        "        'f1': f1,\n",
        "        'precision': precision,\n",
        "        'recall': recall,\n",
        "    }\n",
        "\n",
        "# Main experiment pipeline\n",
        "def run_vit_experiment(config):\n",
        "    \"\"\"\n",
        "    Run a ViT experiment with the specified configuration\n",
        "    \"\"\"\n",
        "    # Initialize wandb for experiment tracking\n",
        "    run = init_wandb(\"ViT-LR-Schedulers\", config[\"experiment_name\"], config)\n",
        "\n",
        "    # Load the image processor for the model\n",
        "    image_processor = AutoImageProcessor.from_pretrained(config[\"model_name\"], use_fast=True)\n",
        "\n",
        "    # Prepare the dataset\n",
        "    train_dataset, val_dataset, test_dataset, id2label, label2id = prepare_dataset(\n",
        "        config[\"dataset_name\"], image_processor\n",
        "    )\n",
        "\n",
        "    # # Visualize some images from the training dataset (do this w/o the remove_columns=[\"image\"])\n",
        "    # # Initialize a set to keep track of shown labels\n",
        "    # shown_labels = set()\n",
        "\n",
        "    # # Initialize the figure for plotting\n",
        "    # plt.figure(figsize=(15, 10))\n",
        "\n",
        "    # # Loop through the dataset and plot the first image of each label\n",
        "    # for i, sample in enumerate(train_dataset):\n",
        "    #     label = sample[\"label\"]\n",
        "    #     image = sample[\"image\"]\n",
        "\n",
        "    #     # Check if the label has already been shown\n",
        "    #     if label not in shown_labels:\n",
        "    #         plt.subplot(1, len(id2label), len(shown_labels) + 1)\n",
        "    #         plt.imshow(image.convert(\"RGB\"))  # Convert to RGB if necessary\n",
        "    #         plt.title(id2label[label])  # Get label name\n",
        "    #         plt.axis(\"off\")\n",
        "    #         shown_labels.add(label)\n",
        "\n",
        "    #         # Stop if all labels have been shown\n",
        "    #         if len(shown_labels) == len(id2label):\n",
        "    #             break\n",
        "\n",
        "    # plt.show()\n",
        "\n",
        "    # Load the ViT model\n",
        "    model = ViTForImageClassification.from_pretrained(\n",
        "        config[\"model_name\"],\n",
        "        num_labels=len(id2label),\n",
        "        id2label=id2label,\n",
        "        label2id=label2id,\n",
        "        ignore_mismatched_sizes=True\n",
        "    )\n",
        "\n",
        "    # Define training arguments\n",
        "    training_args = TrainingArguments(\n",
        "        output_dir=f\"./results/{config['experiment_name']}\",\n",
        "        per_device_train_batch_size=config[\"batch_size\"],\n",
        "        per_device_eval_batch_size=config[\"batch_size\"],\n",
        "        num_train_epochs=config[\"num_epochs\"],\n",
        "        weight_decay=config[\"weight_decay\"],\n",
        "        eval_strategy=\"steps\",\n",
        "        save_strategy=\"steps\",\n",
        "        logging_strategy=\"steps\",  # Ensure logging is enabled\n",
        "        logging_steps=10,          # Log every 10 steps (adjust as needed)\n",
        "        load_best_model_at_end=True,\n",
        "        metric_for_best_model=\"accuracy\",\n",
        "        push_to_hub=False,\n",
        "        report_to=\"wandb\",\n",
        "        remove_unused_columns=False,\n",
        "        learning_rate=config[\"learning_rate\"],\n",
        "    )\n",
        "\n",
        "    # Setup optimizer\n",
        "    if config[\"optimizer_name\"] == \"AdamW\":\n",
        "        optimizer = AdamW(model.parameters(), lr=config[\"learning_rate\"])\n",
        "    else:  # SGD\n",
        "        optimizer = SGD(model.parameters(), lr=config[\"learning_rate\"], momentum=0.9)\n",
        "\n",
        "    # Setup scheduler\n",
        "    num_training_steps = len(train_dataset) // config[\"batch_size\"] * config[\"num_epochs\"]\n",
        "    num_warmup_steps = int(num_training_steps * config[\"warmup_ratio\"]) if \"warmup_ratio\" in config else 0\n",
        "\n",
        "    scheduler_name = config[\"scheduler_name\"]\n",
        "    if scheduler_name == \"linear\":\n",
        "        scheduler = get_scheduler(\n",
        "            \"linear\",\n",
        "            optimizer=optimizer,\n",
        "            num_warmup_steps=num_warmup_steps,\n",
        "            num_training_steps=num_training_steps\n",
        "        )\n",
        "    elif scheduler_name == \"cosine\":\n",
        "        scheduler = get_scheduler(\n",
        "            \"cosine\",\n",
        "            optimizer=optimizer,\n",
        "            num_warmup_steps=num_warmup_steps,\n",
        "            num_training_steps=num_training_steps\n",
        "        )\n",
        "    elif scheduler_name == \"cosine_with_restarts\":\n",
        "        scheduler = get_scheduler(\n",
        "            \"cosine_with_restarts\",\n",
        "            optimizer=optimizer,\n",
        "            num_warmup_steps=num_warmup_steps,\n",
        "            num_training_steps=num_training_steps,\n",
        "        )\n",
        "    elif scheduler_name == \"polynomial\":\n",
        "        scheduler = get_scheduler(\n",
        "            \"polynomial\",\n",
        "            optimizer=optimizer,\n",
        "            num_warmup_steps=num_warmup_steps,\n",
        "            num_training_steps=num_training_steps,\n",
        "            # power=config.get(\"poly_power\", 1.0),\n",
        "        )\n",
        "    elif scheduler_name == \"constant\":\n",
        "        scheduler = get_scheduler(\n",
        "            \"constant\",\n",
        "            optimizer=optimizer,\n",
        "        )\n",
        "    elif scheduler_name == \"constant_with_warmup\":\n",
        "        scheduler = get_scheduler(\n",
        "            \"constant_with_warmup\",\n",
        "            optimizer=optimizer,\n",
        "            num_warmup_steps=num_warmup_steps,\n",
        "        )\n",
        "    # add more experiments.\n",
        "\n",
        "\n",
        "    else:\n",
        "        raise ValueError(f\"Scheduler {scheduler_name} not supported\")\n",
        "\n",
        "    # Initialize Trainer\n",
        "    trainer = Trainer(\n",
        "        model=model,\n",
        "        args=training_args,\n",
        "        train_dataset=train_dataset,\n",
        "        eval_dataset=val_dataset,\n",
        "        compute_metrics=compute_metrics,\n",
        "        optimizers=(optimizer, scheduler)\n",
        "    )\n",
        "\n",
        "    # Loss validation curve in the training loop to log metrics to W&B\n",
        "    for epoch in range(config[\"num_epochs\"]):\n",
        "        print(f\"Epoch {epoch + 1}/{config['num_epochs']}\")\n",
        "\n",
        "        # Train for one epoch\n",
        "        trainer.train()\n",
        "\n",
        "        # Evaluate on validation set\n",
        "        eval_results = trainer.evaluate(val_dataset)\n",
        "\n",
        "        print(trainer.state.log_history)\n",
        "        if trainer.state.log_history and \"loss\" in trainer.state.log_history[-1]:\n",
        "            train_loss = trainer.state.log_history[-1][\"loss\"]\n",
        "        else:\n",
        "            train_loss = None\n",
        "\n",
        "        # Log training and validation metrics to W&B\n",
        "        wandb.log({\n",
        "            \"epoch\": epoch + 1,\n",
        "            \"train_loss\": trainer.state.log_history[-1].get(\"loss\", None),\n",
        "            \"val_loss\": eval_results[\"eval_loss\"],\n",
        "            \"val_accuracy\": eval_results[\"eval_accuracy\"],\n",
        "        })\n",
        "\n",
        "    # Loss epoch curve in the training loop to log metrics to W&B\n",
        "    for epoch in range(config[\"num_epochs\"]):\n",
        "        print(f\"Epoch {epoch + 1}/{config['num_epochs']}\")\n",
        "\n",
        "        # Train for one epoch\n",
        "        trainer.train()\n",
        "\n",
        "        # Evaluate on validation set\n",
        "        eval_results = trainer.evaluate(val_dataset)\n",
        "\n",
        "        # Extract training loss from the trainer's state\n",
        "        if trainer.state.log_history and \"loss\" in trainer.state.log_history[-1]:\n",
        "            train_loss = trainer.state.log_history[-1][\"loss\"]\n",
        "        else:\n",
        "            train_loss = None  # Handle missing loss gracefully\n",
        "\n",
        "        # Log training and validation metrics to W&B\n",
        "        wandb.log({\n",
        "            \"epoch\": epoch + 1,\n",
        "            \"train_loss\": train_loss,                  # Training loss\n",
        "            \"val_loss\": eval_results[\"eval_loss\"],    # Validation loss\n",
        "            \"val_accuracy\": eval_results[\"eval_accuracy\"],  # Validation accuracy\n",
        "        })\n",
        "\n",
        "    # Train the model\n",
        "    print(f\"Starting training for {config['experiment_name']}...\")\n",
        "    trainer.train()\n",
        "\n",
        "    # Evaluate the model\n",
        "    print(f\"Evaluating {config['experiment_name']}...\")\n",
        "    eval_results = trainer.evaluate(test_dataset)\n",
        "\n",
        "\n",
        "    # Log final metrics\n",
        "    wandb.log({\n",
        "        \"final_accuracy\": eval_results[\"eval_accuracy\"],\n",
        "        \"final_f1\": eval_results[\"eval_f1\"],\n",
        "        \"final_precision\": eval_results[\"eval_precision\"],\n",
        "        \"final_recall\": eval_results[\"eval_recall\"],\n",
        "    })\n",
        "\n",
        "    # Compute confusion matrix for test set\n",
        "    predictions, labels, _ = trainer.predict(test_dataset)\n",
        "    predictions = np.argmax(predictions, axis=1)\n",
        "\n",
        "    # Convert to lists\n",
        "    labels = labels.tolist()\n",
        "    predictions = predictions.tolist()\n",
        "\n",
        "    # Log confusion matrix to W&B\n",
        "    wandb.log({\n",
        "        \"confusion_matrix_test\": wandb.plot.confusion_matrix(\n",
        "            probs=None,\n",
        "            y_true=labels,\n",
        "            preds=predictions,\n",
        "            class_names=[str(i) for i in range(len(np.unique(labels)))]\n",
        "        )\n",
        "    })\n",
        "\n",
        "\n",
        "\n",
        "    # Save the model\n",
        "    trainer.save_model(f\"./saved_models/{config['experiment_name']}\")\n",
        "\n",
        "    # Finish wandb run\n",
        "    wandb.finish()\n",
        "\n",
        "    return eval_results\n",
        "\n",
        "# Get experiment configurations for challenging datasets\n",
        "def get_experiment_configs():\n",
        "    # We'll use a more complex dataset from Hugging Face\n",
        "    base_config = {\n",
        "        \"model_name\": \"google/vit-base-patch16-224-in21k\",\n",
        "        \"dataset_name\": \"jbarat/plant_species\",  # Any challenging dataset.\n",
        "        \"batch_size\": 16,\n",
        "        \"num_epochs\": 3, # let's keep smaller number to begin with.\n",
        "        \"weight_decay\": 0.01,\n",
        "        \"optimizer_name\": \"AdamW\",\n",
        "    }\n",
        "\n",
        "    # Different learning rate scheduler configurations\n",
        "    configs = []\n",
        "\n",
        "    # Constant learning rate (baseline)\n",
        "    configs.append({\n",
        "        **base_config,\n",
        "        \"experiment_name\": \"vit_constant_lr\",\n",
        "        \"learning_rate\": 5e-5,\n",
        "        \"scheduler_name\": \"constant\",\n",
        "    })\n",
        "\n",
        "    # Linear decay\n",
        "    configs.append({\n",
        "        **base_config,\n",
        "        \"experiment_name\": \"vit_linear_decay\",\n",
        "        \"learning_rate\": 5e-5,\n",
        "        \"scheduler_name\": \"linear\",\n",
        "        \"warmup_ratio\": 0.1,\n",
        "    })\n",
        "\n",
        "    # Cosine decay (commonly used with ViT)\n",
        "    configs.append({\n",
        "        **base_config,\n",
        "        \"experiment_name\": \"vit_cosine_decay\",\n",
        "        \"learning_rate\": 5e-5,\n",
        "        \"scheduler_name\": \"cosine\",\n",
        "        \"warmup_ratio\": 0.1,\n",
        "    })\n",
        "\n",
        "    # Cosine with restarts\n",
        "    configs.append({\n",
        "        **base_config,\n",
        "        \"experiment_name\": \"vit_cosine_restarts\",\n",
        "        \"learning_rate\": 5e-5,\n",
        "        \"scheduler_name\": \"cosine_with_restarts\",\n",
        "        \"warmup_ratio\": 0.1,\n",
        "    })\n",
        "\n",
        "    # Polynomial decay\n",
        "    configs.append({\n",
        "        **base_config,\n",
        "        \"experiment_name\": \"vit_polynomial\",\n",
        "        \"learning_rate\": 5e-5,\n",
        "        \"scheduler_name\": \"polynomial\",\n",
        "        \"warmup_ratio\": 0.1,\n",
        "        \"poly_power\": 2.0,\n",
        "    })\n",
        "\n",
        "    # Constant with warmup\n",
        "    configs.append({\n",
        "        **base_config,\n",
        "        \"experiment_name\": \"vit_constant_warmup\",\n",
        "        \"learning_rate\": 5e-5,\n",
        "        \"scheduler_name\": \"constant_with_warmup\",\n",
        "        \"warmup_ratio\": 0.1,\n",
        "    })\n",
        "\n",
        "    # Different learning rate experiments\n",
        "    for lr in [1e-5, 3e-5, 1e-4]:\n",
        "        configs.append({\n",
        "            **base_config,\n",
        "            \"experiment_name\": f\"vit_cosine_lr_{lr}\",\n",
        "            \"learning_rate\": lr,\n",
        "            \"scheduler_name\": \"cosine\",\n",
        "            \"warmup_ratio\": 0.1,\n",
        "        })\n",
        "\n",
        "    # Different optimizer experiments\n",
        "    configs.append({\n",
        "        **base_config,\n",
        "        \"experiment_name\": \"vit_sgd_cosine\",\n",
        "        \"learning_rate\": 0.01,  # Higher LR for SGD\n",
        "        \"scheduler_name\": \"cosine\",\n",
        "        \"warmup_ratio\": 0.1,\n",
        "        \"optimizer_name\": \"SGD\",\n",
        "    })\n",
        "\n",
        "    # here we can make changes to add new datasets to experiment.\n",
        "    # or change batch_size to see the impact.\n",
        "    # Other datasets to try (uncomment to use)\n",
        "    #   Erik: We can use a data set as a strech. Maybe something less similar than plants for better contrasting comparison?\n",
        "    # flowers dataset\n",
        "    # configs.append({\n",
        "    #     **base_config,\n",
        "    #     \"dataset_name\": \"huggan/flowers\",\n",
        "    #     \"experiment_name\": \"vit_flowers_cosine\",\n",
        "    #     \"learning_rate\": 5e-5,\n",
        "    #     \"scheduler_name\": \"cosine\",\n",
        "    #     \"warmup_ratio\": 0.1,\n",
        "    # })\n",
        "\n",
        "    return configs\n",
        "\n",
        "# Run experiments and visualize results\n",
        "def run_all_experiments():\n",
        "    configs = get_experiment_configs()\n",
        "    results = []\n",
        "\n",
        "    for config in configs:\n",
        "        print(f\"\\n{'='*50}\")\n",
        "        print(f\"Running experiment: {config['experiment_name']}\")\n",
        "        print(f\"{'='*50}\\n\")\n",
        "\n",
        "        eval_results = run_vit_experiment(config)\n",
        "        results.append({\n",
        "            \"experiment\": config['experiment_name'],\n",
        "            \"accuracy\": eval_results[\"eval_accuracy\"],\n",
        "            \"f1\": eval_results[\"eval_f1\"],\n",
        "            \"precision\": eval_results[\"eval_precision\"],\n",
        "            \"recall\": eval_results[\"eval_recall\"],\n",
        "            \"config\": config\n",
        "        })\n",
        "\n",
        "    return results\n",
        "\n",
        "# Visualize and compare results\n",
        "def visualize_results(results):\n",
        "    # Create DataFrame for easier plotting\n",
        "    df = pd.DataFrame([\n",
        "        {\n",
        "            \"Experiment\": result[\"experiment\"],\n",
        "            \"Accuracy\": result[\"accuracy\"],\n",
        "            \"F1 Score\": result[\"f1\"],\n",
        "            \"Precision\": result[\"precision\"],\n",
        "            \"Recall\": result[\"recall\"],\n",
        "            \"Learning Rate\": result[\"config\"][\"learning_rate\"],\n",
        "            \"Scheduler\": result[\"config\"][\"scheduler_name\"],\n",
        "            \"Optimizer\": result[\"config\"][\"optimizer_name\"],\n",
        "            \"Dataset\": result[\"config\"][\"dataset_name\"]\n",
        "        }\n",
        "        for result in results\n",
        "    ])\n",
        "\n",
        "    # Plot accuracy comparison\n",
        "    plt.figure(figsize=(14, 8))\n",
        "    ax = plt.bar(df[\"Experiment\"], df[\"Accuracy\"], color='skyblue')\n",
        "    plt.xlabel('Experiment')\n",
        "    plt.ylabel('Accuracy')\n",
        "    plt.title('Comparison of Model Accuracy Across Experiments')\n",
        "    plt.xticks(rotation=45, ha='right')\n",
        "    plt.tight_layout()\n",
        "    plt.savefig(\"accuracy_comparison.png\")\n",
        "    plt.close()\n",
        "\n",
        "    # Plot all metrics for a more comprehensive comparison\n",
        "    plt.figure(figsize=(16, 10))\n",
        "    metrics = [\"Accuracy\", \"F1 Score\", \"Precision\", \"Recall\"]\n",
        "    x = np.arange(len(df[\"Experiment\"]))\n",
        "    width = 0.2\n",
        "\n",
        "    for i, metric in enumerate(metrics):\n",
        "        plt.bar(x + i*width, df[metric], width=width, label=metric)\n",
        "\n",
        "    plt.xlabel('Experiment')\n",
        "    plt.ylabel('Score')\n",
        "    plt.title('Comparison of Metrics Across Experiments')\n",
        "    plt.xticks(x + width*1.5, df[\"Experiment\"], rotation=45, ha='right')\n",
        "    plt.legend()\n",
        "    plt.tight_layout()\n",
        "    plt.savefig(\"metrics_comparison.png\")\n",
        "    plt.close()\n",
        "\n",
        "    # Plot results by scheduler type\n",
        "    plt.figure(figsize=(14, 8))\n",
        "    schedulers = df[\"Scheduler\"].unique()\n",
        "    for scheduler in schedulers:\n",
        "        scheduler_data = df[df[\"Scheduler\"] == scheduler]\n",
        "        plt.plot(scheduler_data[\"Learning Rate\"], scheduler_data[\"Accuracy\"], 'o-', label=scheduler)\n",
        "\n",
        "    plt.xlabel('Learning Rate')\n",
        "    plt.ylabel('Accuracy')\n",
        "    plt.title('Accuracy vs. Learning Rate by Scheduler Type')\n",
        "    plt.xscale('log')\n",
        "    plt.legend()\n",
        "    plt.grid(True)\n",
        "    plt.tight_layout()\n",
        "    plt.savefig(\"scheduler_comparison.png\")\n",
        "    plt.close()\n",
        "\n",
        "    # Create a table with results\n",
        "    print(\"Results Summary:\")\n",
        "    print(df[[\"Experiment\", \"Accuracy\", \"F1 Score\", \"Precision\", \"Recall\", \"Scheduler\", \"Learning Rate\", \"Optimizer\", \"Dataset\"]])\n",
        "\n",
        "    # Save results to CSV\n",
        "    df.to_csv(\"experiment_results.csv\", index=False)\n",
        "\n",
        "    return df\n",
        "\n",
        "# Function to run a single experiment (useful for testing)\n",
        "def run_single_experiment(experiment_index=0):\n",
        "    configs = get_experiment_configs()\n",
        "    if experiment_index >= len(configs):\n",
        "        print(f\"Invalid experiment index. Choose between 0 and {len(configs)-1}\")\n",
        "        return\n",
        "\n",
        "    config = configs[experiment_index]\n",
        "    print(f\"Running single experiment: {config['experiment_name']}\")\n",
        "    eval_results = run_vit_experiment(config)\n",
        "\n",
        "    print(f\"\\nResults for {config['experiment_name']}:\")\n",
        "    print(f\"Accuracy: {eval_results['eval_accuracy']:.4f}\")\n",
        "    print(f\"F1 Score: {eval_results['eval_f1']:.4f}\")\n",
        "    print(f\"Precision: {eval_results['eval_precision']:.4f}\")\n",
        "    print(f\"Recall: {eval_results['eval_recall']:.4f}\")\n",
        "\n",
        "    return eval_results\n",
        "\n",
        "def run_optimizer_sweep():\n",
        "    # Initialize W&B run\n",
        "    run = wandb.init()\n",
        "    print(\"W&B initialized:\", run)\n",
        "\n",
        "    config = wandb.config\n",
        "\n",
        "    # Update the experiment configuration with sweep parameters\n",
        "    experiment_config = {\n",
        "        \"model_name\": \"google/vit-base-patch16-224-in21k\",\n",
        "        \"dataset_name\": \"jbarat/plant_species\",\n",
        "        \"batch_size\": config.batch_size,\n",
        "        \"num_epochs\": config.num_epochs,\n",
        "        \"learning_rate\": config.learning_rate,\n",
        "        \"weight_decay\": 0.01,\n",
        "        \"optimizer_name\": config.optimizer_name,\n",
        "        \"experiment_name\": f\"vit_{config.optimizer_name}_lr_{config.learning_rate}\",\n",
        "        \"scheduler_name\": config.scheduler_name,\n",
        "    }\n",
        "\n",
        "    # Run the experiment\n",
        "    eval_results = run_vit_experiment(experiment_config)\n",
        "\n",
        "    # Log final metrics to W&B\n",
        "    wandb.log({\n",
        "        \"final_accuracy\": eval_results[\"eval_accuracy\"],\n",
        "        \"final_f1\": eval_results[\"eval_f1\"],\n",
        "        \"final_precision\": eval_results[\"eval_precision\"],\n",
        "        \"final_recall\": eval_results[\"eval_recall\"],\n",
        "    })\n",
        "\n",
        "    # Finish the W&B run\n",
        "    # wandb.finish()"
      ]
    },
    {
      "cell_type": "code",
      "execution_count": null,
      "metadata": {
        "colab": {
          "base_uri": "https://localhost:8080/",
          "height": 1000
        },
        "id": "AgLdeTtFtIgc",
        "outputId": "457c59b4-f96e-4fbd-cd24-e66e95d759c5"
      },
      "outputs": [
        {
          "name": "stdout",
          "output_type": "stream",
          "text": [
            "Starting ViT experiments with different learning rate schedulers...\n"
          ]
        },
        {
          "name": "stderr",
          "output_type": "stream",
          "text": [
            "\u001b[34m\u001b[1mwandb\u001b[0m: Using wandb-core as the SDK backend.  Please refer to https://wandb.me/wandb-core for more information.\n"
          ]
        },
        {
          "name": "stdout",
          "output_type": "stream",
          "text": [
            "Create sweep with ID: tm2oh2c4\n",
            "Sweep URL: https://wandb.ai/dl_project_sp25/ViT-Optimizer-Sweep/sweeps/tm2oh2c4\n"
          ]
        },
        {
          "name": "stderr",
          "output_type": "stream",
          "text": [
            "\u001b[34m\u001b[1mwandb\u001b[0m: Agent Starting Run: a3aipvvg with config:\n",
            "\u001b[34m\u001b[1mwandb\u001b[0m: \tbatch_size: 16\n",
            "\u001b[34m\u001b[1mwandb\u001b[0m: \tlearning_rate: 2e-05\n",
            "\u001b[34m\u001b[1mwandb\u001b[0m: \tnum_epochs: 3\n",
            "\u001b[34m\u001b[1mwandb\u001b[0m: \toptimizer_name: AdamW\n",
            "\u001b[34m\u001b[1mwandb\u001b[0m: \tscheduler_name: cosine\n",
            "\u001b[34m\u001b[1mwandb\u001b[0m: Currently logged in as: \u001b[33mewg\u001b[0m (\u001b[33mdl_project_sp25\u001b[0m) to \u001b[32mhttps://api.wandb.ai\u001b[0m. Use \u001b[1m`wandb login --relogin`\u001b[0m to force relogin\n"
          ]
        },
        {
          "data": {
            "text/html": [
              "creating run (32s)<br>  <strong style=\"color:red\">ERROR</strong> retrying: Post \"https://api.wandb.ai/graphql\": context deadline exceeded"
            ],
            "text/plain": [
              "<IPython.core.display.HTML object>"
            ]
          },
          "metadata": {},
          "output_type": "display_data"
        },
        {
          "data": {
            "text/html": [
              "Tracking run with wandb version 0.19.9"
            ],
            "text/plain": [
              "<IPython.core.display.HTML object>"
            ]
          },
          "metadata": {},
          "output_type": "display_data"
        },
        {
          "data": {
            "text/html": [
              "Run data is saved locally in <code>/Users/egoh02/Github/CS7643-Project-SP25/wandb/run-20250419_045836-a3aipvvg</code>"
            ],
            "text/plain": [
              "<IPython.core.display.HTML object>"
            ]
          },
          "metadata": {},
          "output_type": "display_data"
        },
        {
          "data": {
            "text/html": [
              "Syncing run <strong><a href='https://wandb.ai/dl_project_sp25/ViT-Optimizer-Sweep/runs/a3aipvvg' target=\"_blank\">elated-sweep-1</a></strong> to <a href='https://wandb.ai/dl_project_sp25/ViT-Optimizer-Sweep' target=\"_blank\">Weights & Biases</a> (<a href='https://wandb.me/developer-guide' target=\"_blank\">docs</a>)<br>Sweep page: <a href='https://wandb.ai/dl_project_sp25/ViT-Optimizer-Sweep/sweeps/tm2oh2c4' target=\"_blank\">https://wandb.ai/dl_project_sp25/ViT-Optimizer-Sweep/sweeps/tm2oh2c4</a>"
            ],
            "text/plain": [
              "<IPython.core.display.HTML object>"
            ]
          },
          "metadata": {},
          "output_type": "display_data"
        },
        {
          "data": {
            "text/html": [
              " View project at <a href='https://wandb.ai/dl_project_sp25/ViT-Optimizer-Sweep' target=\"_blank\">https://wandb.ai/dl_project_sp25/ViT-Optimizer-Sweep</a>"
            ],
            "text/plain": [
              "<IPython.core.display.HTML object>"
            ]
          },
          "metadata": {},
          "output_type": "display_data"
        },
        {
          "data": {
            "text/html": [
              " View sweep at <a href='https://wandb.ai/dl_project_sp25/ViT-Optimizer-Sweep/sweeps/tm2oh2c4' target=\"_blank\">https://wandb.ai/dl_project_sp25/ViT-Optimizer-Sweep/sweeps/tm2oh2c4</a>"
            ],
            "text/plain": [
              "<IPython.core.display.HTML object>"
            ]
          },
          "metadata": {},
          "output_type": "display_data"
        },
        {
          "data": {
            "text/html": [
              " View run at <a href='https://wandb.ai/dl_project_sp25/ViT-Optimizer-Sweep/runs/a3aipvvg' target=\"_blank\">https://wandb.ai/dl_project_sp25/ViT-Optimizer-Sweep/runs/a3aipvvg</a>"
            ],
            "text/plain": [
              "<IPython.core.display.HTML object>"
            ]
          },
          "metadata": {},
          "output_type": "display_data"
        },
        {
          "name": "stdout",
          "output_type": "stream",
          "text": [
            "W&B initialized: <wandb.sdk.wandb_run.Run object at 0x106a1c990>\n"
          ]
        },
        {
          "data": {
            "text/html": [
              "Ignoring project 'ViT-LR-Schedulers' when running a sweep."
            ],
            "text/plain": [
              "<IPython.core.display.HTML object>"
            ]
          },
          "metadata": {},
          "output_type": "display_data"
        },
        {
          "data": {
            "text/html": [],
            "text/plain": [
              "<IPython.core.display.HTML object>"
            ]
          },
          "metadata": {},
          "output_type": "display_data"
        },
        {
          "data": {
            "text/html": [
              " View run <strong style=\"color:#cdcd00\">elated-sweep-1</strong> at: <a href='https://wandb.ai/dl_project_sp25/ViT-Optimizer-Sweep/runs/a3aipvvg' target=\"_blank\">https://wandb.ai/dl_project_sp25/ViT-Optimizer-Sweep/runs/a3aipvvg</a><br> View project at: <a href='https://wandb.ai/dl_project_sp25/ViT-Optimizer-Sweep' target=\"_blank\">https://wandb.ai/dl_project_sp25/ViT-Optimizer-Sweep</a><br>Synced 5 W&B file(s), 0 media file(s), 0 artifact file(s) and 0 other file(s)"
            ],
            "text/plain": [
              "<IPython.core.display.HTML object>"
            ]
          },
          "metadata": {},
          "output_type": "display_data"
        },
        {
          "data": {
            "text/html": [
              "Find logs at: <code>./wandb/run-20250419_045836-a3aipvvg/logs</code>"
            ],
            "text/plain": [
              "<IPython.core.display.HTML object>"
            ]
          },
          "metadata": {},
          "output_type": "display_data"
        },
        {
          "name": "stderr",
          "output_type": "stream",
          "text": [
            "\u001b[34m\u001b[1mwandb\u001b[0m: \u001b[33mWARNING\u001b[0m Using a boolean value for 'reinit' is deprecated. Use 'return_previous' or 'finish_previous' instead.\n"
          ]
        },
        {
          "data": {
            "text/html": [
              "Tracking run with wandb version 0.19.9"
            ],
            "text/plain": [
              "<IPython.core.display.HTML object>"
            ]
          },
          "metadata": {},
          "output_type": "display_data"
        },
        {
          "data": {
            "text/html": [
              "Run data is saved locally in <code>/Users/egoh02/Github/CS7643-Project-SP25/wandb/run-20250419_045909-a3aipvvg</code>"
            ],
            "text/plain": [
              "<IPython.core.display.HTML object>"
            ]
          },
          "metadata": {},
          "output_type": "display_data"
        },
        {
          "data": {
            "text/html": [
              "Syncing run <strong><a href='https://wandb.ai/dl_project_sp25/ViT-Optimizer-Sweep/runs/a3aipvvg' target=\"_blank\">vit_AdamW_lr_2e-05</a></strong> to <a href='https://wandb.ai/dl_project_sp25/ViT-Optimizer-Sweep' target=\"_blank\">Weights & Biases</a> (<a href='https://wandb.me/developer-guide' target=\"_blank\">docs</a>)<br>Sweep page: <a href='https://wandb.ai/dl_project_sp25/ViT-Optimizer-Sweep/sweeps/tm2oh2c4' target=\"_blank\">https://wandb.ai/dl_project_sp25/ViT-Optimizer-Sweep/sweeps/tm2oh2c4</a>"
            ],
            "text/plain": [
              "<IPython.core.display.HTML object>"
            ]
          },
          "metadata": {},
          "output_type": "display_data"
        },
        {
          "data": {
            "text/html": [
              " View project at <a href='https://wandb.ai/dl_project_sp25/ViT-Optimizer-Sweep' target=\"_blank\">https://wandb.ai/dl_project_sp25/ViT-Optimizer-Sweep</a>"
            ],
            "text/plain": [
              "<IPython.core.display.HTML object>"
            ]
          },
          "metadata": {},
          "output_type": "display_data"
        },
        {
          "data": {
            "text/html": [
              " View sweep at <a href='https://wandb.ai/dl_project_sp25/ViT-Optimizer-Sweep/sweeps/tm2oh2c4' target=\"_blank\">https://wandb.ai/dl_project_sp25/ViT-Optimizer-Sweep/sweeps/tm2oh2c4</a>"
            ],
            "text/plain": [
              "<IPython.core.display.HTML object>"
            ]
          },
          "metadata": {},
          "output_type": "display_data"
        },
        {
          "data": {
            "text/html": [
              " View run at <a href='https://wandb.ai/dl_project_sp25/ViT-Optimizer-Sweep/runs/a3aipvvg' target=\"_blank\">https://wandb.ai/dl_project_sp25/ViT-Optimizer-Sweep/runs/a3aipvvg</a>"
            ],
            "text/plain": [
              "<IPython.core.display.HTML object>"
            ]
          },
          "metadata": {},
          "output_type": "display_data"
        },
        {
          "name": "stdout",
          "output_type": "stream",
          "text": [
            "Loading dataset: jbarat/plant_species\n",
            "Dataset prepared with 640 training, 128 validation, and 32 test examples\n"
          ]
        },
        {
          "name": "stderr",
          "output_type": "stream",
          "text": [
            "Some weights of ViTForImageClassification were not initialized from the model checkpoint at google/vit-base-patch16-224-in21k and are newly initialized: ['classifier.bias', 'classifier.weight']\n",
            "You should probably TRAIN this model on a down-stream task to be able to use it for predictions and inference.\n",
            "\u001b[34m\u001b[1mwandb\u001b[0m: \u001b[33mWARNING\u001b[0m The `run_name` is currently set to the same value as `TrainingArguments.output_dir`. If this was not intended, please specify a different run name by setting the `TrainingArguments.run_name` parameter.\n",
            "\u001b[34m\u001b[1mwandb\u001b[0m: \u001b[33mWARNING\u001b[0m Config item 'learning_rate' was locked by 'sweep' (ignored update).\n"
          ]
        },
        {
          "name": "stdout",
          "output_type": "stream",
          "text": [
            "Epoch 1/3\n"
          ]
        },
        {
          "data": {
            "text/html": [
              "\n",
              "    <div>\n",
              "      \n",
              "      <progress value='120' max='120' style='width:300px; height:20px; vertical-align: middle;'></progress>\n",
              "      [120/120 04:29, Epoch 3/3]\n",
              "    </div>\n",
              "    <table border=\"1\" class=\"dataframe\">\n",
              "  <thead>\n",
              " <tr style=\"text-align: left;\">\n",
              "      <th>Step</th>\n",
              "      <th>Training Loss</th>\n",
              "      <th>Validation Loss</th>\n",
              "      <th>Accuracy</th>\n",
              "      <th>F1</th>\n",
              "      <th>Precision</th>\n",
              "      <th>Recall</th>\n",
              "    </tr>\n",
              "  </thead>\n",
              "  <tbody>\n",
              "    <tr>\n",
              "      <td>10</td>\n",
              "      <td>2.047600</td>\n",
              "      <td>2.001338</td>\n",
              "      <td>0.382812</td>\n",
              "      <td>0.350318</td>\n",
              "      <td>0.346596</td>\n",
              "      <td>0.382812</td>\n",
              "    </tr>\n",
              "    <tr>\n",
              "      <td>20</td>\n",
              "      <td>1.985500</td>\n",
              "      <td>1.930775</td>\n",
              "      <td>0.593750</td>\n",
              "      <td>0.530631</td>\n",
              "      <td>0.498367</td>\n",
              "      <td>0.593750</td>\n",
              "    </tr>\n",
              "    <tr>\n",
              "      <td>30</td>\n",
              "      <td>1.938800</td>\n",
              "      <td>1.867357</td>\n",
              "      <td>0.640625</td>\n",
              "      <td>0.587718</td>\n",
              "      <td>0.566239</td>\n",
              "      <td>0.640625</td>\n",
              "    </tr>\n",
              "    <tr>\n",
              "      <td>40</td>\n",
              "      <td>1.864600</td>\n",
              "      <td>1.810676</td>\n",
              "      <td>0.656250</td>\n",
              "      <td>0.609868</td>\n",
              "      <td>0.586438</td>\n",
              "      <td>0.656250</td>\n",
              "    </tr>\n",
              "    <tr>\n",
              "      <td>50</td>\n",
              "      <td>1.725200</td>\n",
              "      <td>1.759613</td>\n",
              "      <td>0.695312</td>\n",
              "      <td>0.677438</td>\n",
              "      <td>0.693231</td>\n",
              "      <td>0.695312</td>\n",
              "    </tr>\n",
              "    <tr>\n",
              "      <td>60</td>\n",
              "      <td>1.699300</td>\n",
              "      <td>1.714998</td>\n",
              "      <td>0.710938</td>\n",
              "      <td>0.699407</td>\n",
              "      <td>0.717201</td>\n",
              "      <td>0.710938</td>\n",
              "    </tr>\n",
              "    <tr>\n",
              "      <td>70</td>\n",
              "      <td>1.649200</td>\n",
              "      <td>1.681201</td>\n",
              "      <td>0.718750</td>\n",
              "      <td>0.706872</td>\n",
              "      <td>0.725735</td>\n",
              "      <td>0.718750</td>\n",
              "    </tr>\n",
              "    <tr>\n",
              "      <td>80</td>\n",
              "      <td>1.642800</td>\n",
              "      <td>1.657151</td>\n",
              "      <td>0.703125</td>\n",
              "      <td>0.690678</td>\n",
              "      <td>0.709404</td>\n",
              "      <td>0.703125</td>\n",
              "    </tr>\n",
              "    <tr>\n",
              "      <td>90</td>\n",
              "      <td>1.558400</td>\n",
              "      <td>1.642181</td>\n",
              "      <td>0.710938</td>\n",
              "      <td>0.697061</td>\n",
              "      <td>0.728322</td>\n",
              "      <td>0.710938</td>\n",
              "    </tr>\n",
              "    <tr>\n",
              "      <td>100</td>\n",
              "      <td>1.566300</td>\n",
              "      <td>1.634265</td>\n",
              "      <td>0.710938</td>\n",
              "      <td>0.698229</td>\n",
              "      <td>0.716920</td>\n",
              "      <td>0.710938</td>\n",
              "    </tr>\n",
              "    <tr>\n",
              "      <td>110</td>\n",
              "      <td>1.560300</td>\n",
              "      <td>1.631219</td>\n",
              "      <td>0.710938</td>\n",
              "      <td>0.698229</td>\n",
              "      <td>0.716920</td>\n",
              "      <td>0.710938</td>\n",
              "    </tr>\n",
              "    <tr>\n",
              "      <td>120</td>\n",
              "      <td>1.532200</td>\n",
              "      <td>1.630738</td>\n",
              "      <td>0.710938</td>\n",
              "      <td>0.698229</td>\n",
              "      <td>0.716920</td>\n",
              "      <td>0.710938</td>\n",
              "    </tr>\n",
              "  </tbody>\n",
              "</table><p>"
            ],
            "text/plain": [
              "<IPython.core.display.HTML object>"
            ]
          },
          "metadata": {},
          "output_type": "display_data"
        },
        {
          "data": {
            "text/html": [
              "\n",
              "    <div>\n",
              "      \n",
              "      <progress value='16' max='8' style='width:300px; height:20px; vertical-align: middle;'></progress>\n",
              "      [8/8 00:28]\n",
              "    </div>\n",
              "    "
            ],
            "text/plain": [
              "<IPython.core.display.HTML object>"
            ]
          },
          "metadata": {},
          "output_type": "display_data"
        },
        {
          "name": "stdout",
          "output_type": "stream",
          "text": [
            "[{'loss': 2.0476, 'grad_norm': 1.7465901374816895, 'learning_rate': 1.9723699203976768e-05, 'epoch': 0.25, 'step': 10}, {'eval_loss': 2.001338481903076, 'eval_accuracy': 0.3828125, 'eval_f1': 0.35031790525325623, 'eval_precision': 0.3465958656379852, 'eval_recall': 0.3828125, 'eval_runtime': 7.3739, 'eval_samples_per_second': 17.359, 'eval_steps_per_second': 1.085, 'epoch': 0.25, 'step': 10}, {'loss': 1.9855, 'grad_norm': 1.8043400049209595, 'learning_rate': 1.8788171126619653e-05, 'epoch': 0.5, 'step': 20}, {'eval_loss': 1.9307751655578613, 'eval_accuracy': 0.59375, 'eval_f1': 0.5306306573601949, 'eval_precision': 0.4983674518327068, 'eval_recall': 0.59375, 'eval_runtime': 7.7362, 'eval_samples_per_second': 16.546, 'eval_steps_per_second': 1.034, 'epoch': 0.5, 'step': 20}, {'loss': 1.9388, 'grad_norm': 1.820662498474121, 'learning_rate': 1.725374371012288e-05, 'epoch': 0.75, 'step': 30}, {'eval_loss': 1.8673568964004517, 'eval_accuracy': 0.640625, 'eval_f1': 0.5877184098691453, 'eval_precision': 0.5662392842902711, 'eval_recall': 0.640625, 'eval_runtime': 10.3108, 'eval_samples_per_second': 12.414, 'eval_steps_per_second': 0.776, 'epoch': 0.75, 'step': 30}, {'loss': 1.8646, 'grad_norm': 1.8478823900222778, 'learning_rate': 1.5224985647159489e-05, 'epoch': 1.0, 'step': 40}, {'eval_loss': 1.8106755018234253, 'eval_accuracy': 0.65625, 'eval_f1': 0.609868173648073, 'eval_precision': 0.5864377784476594, 'eval_recall': 0.65625, 'eval_runtime': 7.0496, 'eval_samples_per_second': 18.157, 'eval_steps_per_second': 1.135, 'epoch': 1.0, 'step': 40}, {'loss': 1.7252, 'grad_norm': 1.832444667816162, 'learning_rate': 1.284015344703923e-05, 'epoch': 1.25, 'step': 50}, {'eval_loss': 1.7596131563186646, 'eval_accuracy': 0.6953125, 'eval_f1': 0.677437771622831, 'eval_precision': 0.6932312062708855, 'eval_recall': 0.6953125, 'eval_runtime': 6.7554, 'eval_samples_per_second': 18.948, 'eval_steps_per_second': 1.184, 'epoch': 1.25, 'step': 50}, {'loss': 1.6993, 'grad_norm': 2.1178174018859863, 'learning_rate': 1.0261769483078734e-05, 'epoch': 1.5, 'step': 60}, {'eval_loss': 1.7149975299835205, 'eval_accuracy': 0.7109375, 'eval_f1': 0.6994068071100159, 'eval_precision': 0.7172005534670008, 'eval_recall': 0.7109375, 'eval_runtime': 7.0035, 'eval_samples_per_second': 18.277, 'eval_steps_per_second': 1.142, 'epoch': 1.5, 'step': 60}, {'loss': 1.6492, 'grad_norm': 1.9018594026565552, 'learning_rate': 7.66554636144095e-06, 'epoch': 1.75, 'step': 70}, {'eval_loss': 1.6812007427215576, 'eval_accuracy': 0.71875, 'eval_f1': 0.7068723480346086, 'eval_precision': 0.7257349877826853, 'eval_recall': 0.71875, 'eval_runtime': 7.3526, 'eval_samples_per_second': 17.409, 'eval_steps_per_second': 1.088, 'epoch': 1.75, 'step': 70}, {'loss': 1.6428, 'grad_norm': 2.035004138946533, 'learning_rate': 5.228412397403916e-06, 'epoch': 2.0, 'step': 80}, {'eval_loss': 1.657151222229004, 'eval_accuracy': 0.703125, 'eval_f1': 0.690677686257456, 'eval_precision': 0.7094044518849206, 'eval_recall': 0.703125, 'eval_runtime': 7.1204, 'eval_samples_per_second': 17.977, 'eval_steps_per_second': 1.124, 'epoch': 2.0, 'step': 80}, {'loss': 1.5584, 'grad_norm': 1.870637059211731, 'learning_rate': 3.116454243062459e-06, 'epoch': 2.25, 'step': 90}, {'eval_loss': 1.6421812772750854, 'eval_accuracy': 0.7109375, 'eval_f1': 0.6970608316208644, 'eval_precision': 0.7283218625992064, 'eval_recall': 0.7109375, 'eval_runtime': 6.8643, 'eval_samples_per_second': 18.647, 'eval_steps_per_second': 1.165, 'epoch': 2.25, 'step': 90}, {'loss': 1.5663, 'grad_norm': 1.879952073097229, 'learning_rate': 1.4735983564590784e-06, 'epoch': 2.5, 'step': 100}, {'eval_loss': 1.6342651844024658, 'eval_accuracy': 0.7109375, 'eval_f1': 0.6982291695523868, 'eval_precision': 0.7169196975665266, 'eval_recall': 0.7109375, 'eval_runtime': 7.1858, 'eval_samples_per_second': 17.813, 'eval_steps_per_second': 1.113, 'epoch': 2.5, 'step': 100}, {'loss': 1.5603, 'grad_norm': 1.7870044708251953, 'learning_rate': 4.118026513180695e-07, 'epoch': 2.75, 'step': 110}, {'eval_loss': 1.6312193870544434, 'eval_accuracy': 0.7109375, 'eval_f1': 0.6982291695523868, 'eval_precision': 0.7169196975665266, 'eval_recall': 0.7109375, 'eval_runtime': 6.7885, 'eval_samples_per_second': 18.855, 'eval_steps_per_second': 1.178, 'epoch': 2.75, 'step': 110}, {'loss': 1.5322, 'grad_norm': 1.7667791843414307, 'learning_rate': 3.4267502444274013e-09, 'epoch': 3.0, 'step': 120}, {'eval_loss': 1.630738377571106, 'eval_accuracy': 0.7109375, 'eval_f1': 0.6982291695523868, 'eval_precision': 0.7169196975665266, 'eval_recall': 0.7109375, 'eval_runtime': 6.869, 'eval_samples_per_second': 18.635, 'eval_steps_per_second': 1.165, 'epoch': 3.0, 'step': 120}, {'train_runtime': 272.9492, 'train_samples_per_second': 7.034, 'train_steps_per_second': 0.44, 'total_flos': 1.4879262111694848e+17, 'train_loss': 1.7308548132578532, 'epoch': 3.0, 'step': 120}, {'eval_loss': 1.630738377571106, 'eval_accuracy': 0.7109375, 'eval_f1': 0.6982291695523868, 'eval_precision': 0.7169196975665266, 'eval_recall': 0.7109375, 'eval_runtime': 6.7586, 'eval_samples_per_second': 18.939, 'eval_steps_per_second': 1.184, 'epoch': 3.0, 'step': 120}]\n",
            "Epoch 2/3\n"
          ]
        },
        {
          "data": {
            "text/html": [
              "\n",
              "    <div>\n",
              "      \n",
              "      <progress value='120' max='120' style='width:300px; height:20px; vertical-align: middle;'></progress>\n",
              "      [120/120 04:25, Epoch 3/3]\n",
              "    </div>\n",
              "    <table border=\"1\" class=\"dataframe\">\n",
              "  <thead>\n",
              " <tr style=\"text-align: left;\">\n",
              "      <th>Step</th>\n",
              "      <th>Training Loss</th>\n",
              "      <th>Validation Loss</th>\n",
              "      <th>Accuracy</th>\n",
              "      <th>F1</th>\n",
              "      <th>Precision</th>\n",
              "      <th>Recall</th>\n",
              "    </tr>\n",
              "  </thead>\n",
              "  <tbody>\n",
              "    <tr>\n",
              "      <td>10</td>\n",
              "      <td>1.507800</td>\n",
              "      <td>1.630374</td>\n",
              "      <td>0.710938</td>\n",
              "      <td>0.698229</td>\n",
              "      <td>0.716920</td>\n",
              "      <td>0.710938</td>\n",
              "    </tr>\n",
              "    <tr>\n",
              "      <td>20</td>\n",
              "      <td>1.530700</td>\n",
              "      <td>1.627552</td>\n",
              "      <td>0.710938</td>\n",
              "      <td>0.698229</td>\n",
              "      <td>0.716920</td>\n",
              "      <td>0.710938</td>\n",
              "    </tr>\n",
              "    <tr>\n",
              "      <td>30</td>\n",
              "      <td>1.562900</td>\n",
              "      <td>1.620325</td>\n",
              "      <td>0.710938</td>\n",
              "      <td>0.698507</td>\n",
              "      <td>0.717480</td>\n",
              "      <td>0.710938</td>\n",
              "    </tr>\n",
              "    <tr>\n",
              "      <td>40</td>\n",
              "      <td>1.540700</td>\n",
              "      <td>1.607143</td>\n",
              "      <td>0.710938</td>\n",
              "      <td>0.698507</td>\n",
              "      <td>0.717480</td>\n",
              "      <td>0.710938</td>\n",
              "    </tr>\n",
              "    <tr>\n",
              "      <td>50</td>\n",
              "      <td>1.469000</td>\n",
              "      <td>1.584902</td>\n",
              "      <td>0.718750</td>\n",
              "      <td>0.705401</td>\n",
              "      <td>0.726865</td>\n",
              "      <td>0.718750</td>\n",
              "    </tr>\n",
              "    <tr>\n",
              "      <td>60</td>\n",
              "      <td>1.474100</td>\n",
              "      <td>1.552525</td>\n",
              "      <td>0.734375</td>\n",
              "      <td>0.721099</td>\n",
              "      <td>0.740344</td>\n",
              "      <td>0.734375</td>\n",
              "    </tr>\n",
              "    <tr>\n",
              "      <td>70</td>\n",
              "      <td>1.432300</td>\n",
              "      <td>1.513136</td>\n",
              "      <td>0.742188</td>\n",
              "      <td>0.733439</td>\n",
              "      <td>0.753108</td>\n",
              "      <td>0.742188</td>\n",
              "    </tr>\n",
              "    <tr>\n",
              "      <td>80</td>\n",
              "      <td>1.438700</td>\n",
              "      <td>1.465119</td>\n",
              "      <td>0.757812</td>\n",
              "      <td>0.749984</td>\n",
              "      <td>0.768109</td>\n",
              "      <td>0.757812</td>\n",
              "    </tr>\n",
              "    <tr>\n",
              "      <td>90</td>\n",
              "      <td>1.294500</td>\n",
              "      <td>1.411643</td>\n",
              "      <td>0.765625</td>\n",
              "      <td>0.762043</td>\n",
              "      <td>0.773445</td>\n",
              "      <td>0.765625</td>\n",
              "    </tr>\n",
              "    <tr>\n",
              "      <td>100</td>\n",
              "      <td>1.260500</td>\n",
              "      <td>1.355242</td>\n",
              "      <td>0.796875</td>\n",
              "      <td>0.793735</td>\n",
              "      <td>0.801687</td>\n",
              "      <td>0.796875</td>\n",
              "    </tr>\n",
              "    <tr>\n",
              "      <td>110</td>\n",
              "      <td>1.217400</td>\n",
              "      <td>1.296622</td>\n",
              "      <td>0.796875</td>\n",
              "      <td>0.788827</td>\n",
              "      <td>0.804271</td>\n",
              "      <td>0.796875</td>\n",
              "    </tr>\n",
              "    <tr>\n",
              "      <td>120</td>\n",
              "      <td>1.118200</td>\n",
              "      <td>1.233909</td>\n",
              "      <td>0.812500</td>\n",
              "      <td>0.810689</td>\n",
              "      <td>0.816481</td>\n",
              "      <td>0.812500</td>\n",
              "    </tr>\n",
              "  </tbody>\n",
              "</table><p>"
            ],
            "text/plain": [
              "<IPython.core.display.HTML object>"
            ]
          },
          "metadata": {},
          "output_type": "display_data"
        },
        {
          "data": {
            "text/html": [
              "\n",
              "    <div>\n",
              "      \n",
              "      <progress value='16' max='8' style='width:300px; height:20px; vertical-align: middle;'></progress>\n",
              "      [8/8 00:27]\n",
              "    </div>\n",
              "    "
            ],
            "text/plain": [
              "<IPython.core.display.HTML object>"
            ]
          },
          "metadata": {},
          "output_type": "display_data"
        },
        {
          "name": "stdout",
          "output_type": "stream",
          "text": [
            "[{'loss': 1.5078, 'grad_norm': 1.7949110269546509, 'learning_rate': 2.7630079602323335e-07, 'epoch': 0.25, 'step': 10}, {'eval_loss': 1.6303739547729492, 'eval_accuracy': 0.7109375, 'eval_f1': 0.6982291695523868, 'eval_precision': 0.7169196975665266, 'eval_recall': 0.7109375, 'eval_runtime': 6.9634, 'eval_samples_per_second': 18.382, 'eval_steps_per_second': 1.149, 'epoch': 0.25, 'step': 10}, {'loss': 1.5307, 'grad_norm': 1.8965873718261719, 'learning_rate': 1.2118288733803462e-06, 'epoch': 0.5, 'step': 20}, {'eval_loss': 1.6275523900985718, 'eval_accuracy': 0.7109375, 'eval_f1': 0.6982291695523868, 'eval_precision': 0.7169196975665266, 'eval_recall': 0.7109375, 'eval_runtime': 7.4969, 'eval_samples_per_second': 17.074, 'eval_steps_per_second': 1.067, 'epoch': 0.5, 'step': 20}, {'loss': 1.5629, 'grad_norm': 1.8974571228027344, 'learning_rate': 2.746256289877125e-06, 'epoch': 0.75, 'step': 30}, {'eval_loss': 1.6203253269195557, 'eval_accuracy': 0.7109375, 'eval_f1': 0.6985071142639252, 'eval_precision': 0.7174797227129488, 'eval_recall': 0.7109375, 'eval_runtime': 8.3171, 'eval_samples_per_second': 15.39, 'eval_steps_per_second': 0.962, 'epoch': 0.75, 'step': 30}, {'loss': 1.5407, 'grad_norm': 1.8527817726135254, 'learning_rate': 4.775014352840507e-06, 'epoch': 1.0, 'step': 40}, {'eval_loss': 1.6071431636810303, 'eval_accuracy': 0.7109375, 'eval_f1': 0.6985071142639252, 'eval_precision': 0.7174797227129488, 'eval_recall': 0.7109375, 'eval_runtime': 7.8652, 'eval_samples_per_second': 16.274, 'eval_steps_per_second': 1.017, 'epoch': 1.0, 'step': 40}, {'loss': 1.469, 'grad_norm': 1.8130197525024414, 'learning_rate': 7.159846552960774e-06, 'epoch': 1.25, 'step': 50}, {'eval_loss': 1.584902286529541, 'eval_accuracy': 0.71875, 'eval_f1': 0.7054010274078384, 'eval_precision': 0.7268648688168449, 'eval_recall': 0.71875, 'eval_runtime': 6.7862, 'eval_samples_per_second': 18.862, 'eval_steps_per_second': 1.179, 'epoch': 1.25, 'step': 50}, {'loss': 1.4741, 'grad_norm': 2.068394184112549, 'learning_rate': 9.738230516921265e-06, 'epoch': 1.5, 'step': 60}, {'eval_loss': 1.5525245666503906, 'eval_accuracy': 0.734375, 'eval_f1': 0.7210988320850853, 'eval_precision': 0.7403440554210815, 'eval_recall': 0.734375, 'eval_runtime': 6.8801, 'eval_samples_per_second': 18.604, 'eval_steps_per_second': 1.163, 'epoch': 1.5, 'step': 60}, {'loss': 1.4323, 'grad_norm': 1.9698269367218018, 'learning_rate': 1.233445363855905e-05, 'epoch': 1.75, 'step': 70}, {'eval_loss': 1.513136386871338, 'eval_accuracy': 0.7421875, 'eval_f1': 0.7334388376571722, 'eval_precision': 0.7531081752995821, 'eval_recall': 0.7421875, 'eval_runtime': 7.2241, 'eval_samples_per_second': 17.718, 'eval_steps_per_second': 1.107, 'epoch': 1.75, 'step': 70}, {'loss': 1.4387, 'grad_norm': 2.0466203689575195, 'learning_rate': 1.4771587602596085e-05, 'epoch': 2.0, 'step': 80}, {'eval_loss': 1.465119481086731, 'eval_accuracy': 0.7578125, 'eval_f1': 0.7499841548373177, 'eval_precision': 0.7681088222975117, 'eval_recall': 0.7578125, 'eval_runtime': 6.7745, 'eval_samples_per_second': 18.894, 'eval_steps_per_second': 1.181, 'epoch': 2.0, 'step': 80}, {'loss': 1.2945, 'grad_norm': 1.7472060918807983, 'learning_rate': 1.6883545756937537e-05, 'epoch': 2.25, 'step': 90}, {'eval_loss': 1.4116432666778564, 'eval_accuracy': 0.765625, 'eval_f1': 0.7620426943291108, 'eval_precision': 0.7734446265164144, 'eval_recall': 0.765625, 'eval_runtime': 6.9968, 'eval_samples_per_second': 18.294, 'eval_steps_per_second': 1.143, 'epoch': 2.25, 'step': 90}, {'loss': 1.2605, 'grad_norm': 1.926340103149414, 'learning_rate': 1.8526401643540917e-05, 'epoch': 2.5, 'step': 100}, {'eval_loss': 1.3552420139312744, 'eval_accuracy': 0.796875, 'eval_f1': 0.7937346671113867, 'eval_precision': 0.801687111142534, 'eval_recall': 0.796875, 'eval_runtime': 6.782, 'eval_samples_per_second': 18.873, 'eval_steps_per_second': 1.18, 'epoch': 2.5, 'step': 100}, {'loss': 1.2174, 'grad_norm': 1.970938801765442, 'learning_rate': 1.958819734868193e-05, 'epoch': 2.75, 'step': 110}, {'eval_loss': 1.2966216802597046, 'eval_accuracy': 0.796875, 'eval_f1': 0.7888273079241362, 'eval_precision': 0.8042712457579186, 'eval_recall': 0.796875, 'eval_runtime': 7.5426, 'eval_samples_per_second': 16.97, 'eval_steps_per_second': 1.061, 'epoch': 2.75, 'step': 110}, {'loss': 1.1182, 'grad_norm': 1.8975666761398315, 'learning_rate': 1.9996573249755573e-05, 'epoch': 3.0, 'step': 120}, {'eval_loss': 1.2339085340499878, 'eval_accuracy': 0.8125, 'eval_f1': 0.810689218869366, 'eval_precision': 0.8164813701923077, 'eval_recall': 0.8125, 'eval_runtime': 6.9433, 'eval_samples_per_second': 18.435, 'eval_steps_per_second': 1.152, 'epoch': 3.0, 'step': 120}, {'train_runtime': 267.1495, 'train_samples_per_second': 7.187, 'train_steps_per_second': 0.449, 'total_flos': 1.4879262111694848e+17, 'train_loss': 1.4038987716039022, 'epoch': 3.0, 'step': 120}, {'eval_loss': 1.2339085340499878, 'eval_accuracy': 0.8125, 'eval_f1': 0.810689218869366, 'eval_precision': 0.8164813701923077, 'eval_recall': 0.8125, 'eval_runtime': 7.1179, 'eval_samples_per_second': 17.983, 'eval_steps_per_second': 1.124, 'epoch': 3.0, 'step': 120}]\n",
            "Epoch 3/3\n"
          ]
        },
        {
          "data": {
            "text/html": [
              "\n",
              "    <div>\n",
              "      \n",
              "      <progress value='120' max='120' style='width:300px; height:20px; vertical-align: middle;'></progress>\n",
              "      [120/120 04:12, Epoch 3/3]\n",
              "    </div>\n",
              "    <table border=\"1\" class=\"dataframe\">\n",
              "  <thead>\n",
              " <tr style=\"text-align: left;\">\n",
              "      <th>Step</th>\n",
              "      <th>Training Loss</th>\n",
              "      <th>Validation Loss</th>\n",
              "      <th>Accuracy</th>\n",
              "      <th>F1</th>\n",
              "      <th>Precision</th>\n",
              "      <th>Recall</th>\n",
              "    </tr>\n",
              "  </thead>\n",
              "  <tbody>\n",
              "    <tr>\n",
              "      <td>10</td>\n",
              "      <td>0.993400</td>\n",
              "      <td>1.180543</td>\n",
              "      <td>0.828125</td>\n",
              "      <td>0.826450</td>\n",
              "      <td>0.830715</td>\n",
              "      <td>0.828125</td>\n",
              "    </tr>\n",
              "    <tr>\n",
              "      <td>20</td>\n",
              "      <td>0.949300</td>\n",
              "      <td>1.132684</td>\n",
              "      <td>0.828125</td>\n",
              "      <td>0.826029</td>\n",
              "      <td>0.828742</td>\n",
              "      <td>0.828125</td>\n",
              "    </tr>\n",
              "    <tr>\n",
              "      <td>30</td>\n",
              "      <td>0.960800</td>\n",
              "      <td>1.086893</td>\n",
              "      <td>0.820312</td>\n",
              "      <td>0.817134</td>\n",
              "      <td>0.819652</td>\n",
              "      <td>0.820312</td>\n",
              "    </tr>\n",
              "    <tr>\n",
              "      <td>40</td>\n",
              "      <td>0.881800</td>\n",
              "      <td>1.051632</td>\n",
              "      <td>0.835938</td>\n",
              "      <td>0.834565</td>\n",
              "      <td>0.837333</td>\n",
              "      <td>0.835938</td>\n",
              "    </tr>\n",
              "    <tr>\n",
              "      <td>50</td>\n",
              "      <td>0.788100</td>\n",
              "      <td>1.024030</td>\n",
              "      <td>0.835938</td>\n",
              "      <td>0.835251</td>\n",
              "      <td>0.841686</td>\n",
              "      <td>0.835938</td>\n",
              "    </tr>\n",
              "    <tr>\n",
              "      <td>60</td>\n",
              "      <td>0.764300</td>\n",
              "      <td>1.001675</td>\n",
              "      <td>0.828125</td>\n",
              "      <td>0.825265</td>\n",
              "      <td>0.828876</td>\n",
              "      <td>0.828125</td>\n",
              "    </tr>\n",
              "    <tr>\n",
              "      <td>70</td>\n",
              "      <td>0.719100</td>\n",
              "      <td>0.986940</td>\n",
              "      <td>0.828125</td>\n",
              "      <td>0.826694</td>\n",
              "      <td>0.830595</td>\n",
              "      <td>0.828125</td>\n",
              "    </tr>\n",
              "    <tr>\n",
              "      <td>80</td>\n",
              "      <td>0.734300</td>\n",
              "      <td>0.971487</td>\n",
              "      <td>0.828125</td>\n",
              "      <td>0.826495</td>\n",
              "      <td>0.830420</td>\n",
              "      <td>0.828125</td>\n",
              "    </tr>\n",
              "    <tr>\n",
              "      <td>90</td>\n",
              "      <td>0.688600</td>\n",
              "      <td>0.960844</td>\n",
              "      <td>0.828125</td>\n",
              "      <td>0.826694</td>\n",
              "      <td>0.830595</td>\n",
              "      <td>0.828125</td>\n",
              "    </tr>\n",
              "    <tr>\n",
              "      <td>100</td>\n",
              "      <td>0.674000</td>\n",
              "      <td>0.957579</td>\n",
              "      <td>0.820312</td>\n",
              "      <td>0.818713</td>\n",
              "      <td>0.823575</td>\n",
              "      <td>0.820312</td>\n",
              "    </tr>\n",
              "    <tr>\n",
              "      <td>110</td>\n",
              "      <td>0.677800</td>\n",
              "      <td>0.956434</td>\n",
              "      <td>0.812500</td>\n",
              "      <td>0.810626</td>\n",
              "      <td>0.816992</td>\n",
              "      <td>0.812500</td>\n",
              "    </tr>\n",
              "    <tr>\n",
              "      <td>120</td>\n",
              "      <td>0.645700</td>\n",
              "      <td>0.956209</td>\n",
              "      <td>0.812500</td>\n",
              "      <td>0.810626</td>\n",
              "      <td>0.816992</td>\n",
              "      <td>0.812500</td>\n",
              "    </tr>\n",
              "  </tbody>\n",
              "</table><p>"
            ],
            "text/plain": [
              "<IPython.core.display.HTML object>"
            ]
          },
          "metadata": {},
          "output_type": "display_data"
        },
        {
          "data": {
            "text/html": [
              "\n",
              "    <div>\n",
              "      \n",
              "      <progress value='16' max='8' style='width:300px; height:20px; vertical-align: middle;'></progress>\n",
              "      [8/8 00:27]\n",
              "    </div>\n",
              "    "
            ],
            "text/plain": [
              "<IPython.core.display.HTML object>"
            ]
          },
          "metadata": {},
          "output_type": "display_data"
        },
        {
          "name": "stdout",
          "output_type": "stream",
          "text": [
            "[{'loss': 0.9934, 'grad_norm': 1.6726435422897339, 'learning_rate': 1.9723699203976768e-05, 'epoch': 0.25, 'step': 10}, {'eval_loss': 1.1805428266525269, 'eval_accuracy': 0.828125, 'eval_f1': 0.8264503844467079, 'eval_precision': 0.8307146697874495, 'eval_recall': 0.828125, 'eval_runtime': 7.0293, 'eval_samples_per_second': 18.209, 'eval_steps_per_second': 1.138, 'epoch': 0.25, 'step': 10}, {'loss': 0.9493, 'grad_norm': 1.8174797296524048, 'learning_rate': 1.878817112661966e-05, 'epoch': 0.5, 'step': 20}, {'eval_loss': 1.1326837539672852, 'eval_accuracy': 0.828125, 'eval_f1': 0.8260285638550091, 'eval_precision': 0.8287417010073259, 'eval_recall': 0.828125, 'eval_runtime': 6.7346, 'eval_samples_per_second': 19.006, 'eval_steps_per_second': 1.188, 'epoch': 0.5, 'step': 20}, {'loss': 0.9608, 'grad_norm': 1.8577589988708496, 'learning_rate': 1.725374371012288e-05, 'epoch': 0.75, 'step': 30}, {'eval_loss': 1.08689284324646, 'eval_accuracy': 0.8203125, 'eval_f1': 0.8171338127727581, 'eval_precision': 0.8196521577380952, 'eval_recall': 0.8203125, 'eval_runtime': 6.7082, 'eval_samples_per_second': 19.081, 'eval_steps_per_second': 1.193, 'epoch': 0.75, 'step': 30}, {'loss': 0.8818, 'grad_norm': 2.098172426223755, 'learning_rate': 1.5224985647159489e-05, 'epoch': 1.0, 'step': 40}, {'eval_loss': 1.0516324043273926, 'eval_accuracy': 0.8359375, 'eval_f1': 0.8345650454520337, 'eval_precision': 0.8373328196410142, 'eval_recall': 0.8359375, 'eval_runtime': 6.6741, 'eval_samples_per_second': 19.179, 'eval_steps_per_second': 1.199, 'epoch': 1.0, 'step': 40}, {'loss': 0.7881, 'grad_norm': 1.6056634187698364, 'learning_rate': 1.2840153447039237e-05, 'epoch': 1.25, 'step': 50}, {'eval_loss': 1.0240304470062256, 'eval_accuracy': 0.8359375, 'eval_f1': 0.8352512462654375, 'eval_precision': 0.8416858559276443, 'eval_recall': 0.8359375, 'eval_runtime': 6.8656, 'eval_samples_per_second': 18.644, 'eval_steps_per_second': 1.165, 'epoch': 1.25, 'step': 50}, {'loss': 0.7643, 'grad_norm': 1.8600537776947021, 'learning_rate': 1.0261769483078737e-05, 'epoch': 1.5, 'step': 60}, {'eval_loss': 1.001674771308899, 'eval_accuracy': 0.828125, 'eval_f1': 0.8252654440724928, 'eval_precision': 0.8288763901942355, 'eval_recall': 0.828125, 'eval_runtime': 6.8498, 'eval_samples_per_second': 18.687, 'eval_steps_per_second': 1.168, 'epoch': 1.5, 'step': 60}, {'loss': 0.7191, 'grad_norm': 1.482256293296814, 'learning_rate': 7.665546361440936e-06, 'epoch': 1.75, 'step': 70}, {'eval_loss': 0.9869396090507507, 'eval_accuracy': 0.828125, 'eval_f1': 0.826693501391082, 'eval_precision': 0.830594811937933, 'eval_recall': 0.828125, 'eval_runtime': 7.0378, 'eval_samples_per_second': 18.187, 'eval_steps_per_second': 1.137, 'epoch': 1.75, 'step': 70}, {'loss': 0.7343, 'grad_norm': 1.5971468687057495, 'learning_rate': 5.228412397403926e-06, 'epoch': 2.0, 'step': 80}, {'eval_loss': 0.9714869260787964, 'eval_accuracy': 0.828125, 'eval_f1': 0.8264945658397342, 'eval_precision': 0.8304202890037593, 'eval_recall': 0.828125, 'eval_runtime': 6.7955, 'eval_samples_per_second': 18.836, 'eval_steps_per_second': 1.177, 'epoch': 2.0, 'step': 80}, {'loss': 0.6886, 'grad_norm': 1.3709155321121216, 'learning_rate': 3.116454243062458e-06, 'epoch': 2.25, 'step': 90}, {'eval_loss': 0.9608443975448608, 'eval_accuracy': 0.828125, 'eval_f1': 0.826693501391082, 'eval_precision': 0.830594811937933, 'eval_recall': 0.828125, 'eval_runtime': 6.6797, 'eval_samples_per_second': 19.162, 'eval_steps_per_second': 1.198, 'epoch': 2.25, 'step': 90}, {'loss': 0.674, 'grad_norm': 1.3425737619400024, 'learning_rate': 1.4735983564590772e-06, 'epoch': 2.5, 'step': 100}, {'eval_loss': 0.9575790762901306, 'eval_accuracy': 0.8203125, 'eval_f1': 0.8187130247176541, 'eval_precision': 0.8235750509085213, 'eval_recall': 0.8203125, 'eval_runtime': 6.9889, 'eval_samples_per_second': 18.315, 'eval_steps_per_second': 1.145, 'epoch': 2.5, 'step': 100}, {'loss': 0.6778, 'grad_norm': 1.3304661512374878, 'learning_rate': 4.118026513180706e-07, 'epoch': 2.75, 'step': 110}, {'eval_loss': 0.9564337134361267, 'eval_accuracy': 0.8125, 'eval_f1': 0.8106264066393376, 'eval_precision': 0.8169918707614625, 'eval_recall': 0.8125, 'eval_runtime': 6.6255, 'eval_samples_per_second': 19.319, 'eval_steps_per_second': 1.207, 'epoch': 2.75, 'step': 110}, {'loss': 0.6457, 'grad_norm': 1.3392988443374634, 'learning_rate': 3.4267502444274013e-09, 'epoch': 3.0, 'step': 120}, {'eval_loss': 0.9562091827392578, 'eval_accuracy': 0.8125, 'eval_f1': 0.8106264066393376, 'eval_precision': 0.8169918707614625, 'eval_recall': 0.8125, 'eval_runtime': 6.6372, 'eval_samples_per_second': 19.285, 'eval_steps_per_second': 1.205, 'epoch': 3.0, 'step': 120}, {'train_runtime': 254.6881, 'train_samples_per_second': 7.539, 'train_steps_per_second': 0.471, 'total_flos': 1.4879262111694848e+17, 'train_loss': 0.7897680918375651, 'epoch': 3.0, 'step': 120}, {'eval_loss': 0.9114013314247131, 'eval_accuracy': 0.8203125, 'eval_f1': 0.8189976883906745, 'eval_precision': 0.8241112028693056, 'eval_recall': 0.8203125, 'eval_runtime': 7.4104, 'eval_samples_per_second': 17.273, 'eval_steps_per_second': 1.08, 'epoch': 3.0, 'step': 120}]\n",
            "Epoch 1/3\n"
          ]
        },
        {
          "data": {
            "text/html": [
              "\n",
              "    <div>\n",
              "      \n",
              "      <progress value='120' max='120' style='width:300px; height:20px; vertical-align: middle;'></progress>\n",
              "      [120/120 04:11, Epoch 3/3]\n",
              "    </div>\n",
              "    <table border=\"1\" class=\"dataframe\">\n",
              "  <thead>\n",
              " <tr style=\"text-align: left;\">\n",
              "      <th>Step</th>\n",
              "      <th>Training Loss</th>\n",
              "      <th>Validation Loss</th>\n",
              "      <th>Accuracy</th>\n",
              "      <th>F1</th>\n",
              "      <th>Precision</th>\n",
              "      <th>Recall</th>\n",
              "    </tr>\n",
              "  </thead>\n",
              "  <tbody>\n",
              "    <tr>\n",
              "      <td>10</td>\n",
              "      <td>0.583200</td>\n",
              "      <td>0.911223</td>\n",
              "      <td>0.820312</td>\n",
              "      <td>0.818998</td>\n",
              "      <td>0.824111</td>\n",
              "      <td>0.820312</td>\n",
              "    </tr>\n",
              "    <tr>\n",
              "      <td>20</td>\n",
              "      <td>0.572800</td>\n",
              "      <td>0.910086</td>\n",
              "      <td>0.820312</td>\n",
              "      <td>0.818998</td>\n",
              "      <td>0.824111</td>\n",
              "      <td>0.820312</td>\n",
              "    </tr>\n",
              "    <tr>\n",
              "      <td>30</td>\n",
              "      <td>0.620100</td>\n",
              "      <td>0.909260</td>\n",
              "      <td>0.828125</td>\n",
              "      <td>0.826446</td>\n",
              "      <td>0.833516</td>\n",
              "      <td>0.828125</td>\n",
              "    </tr>\n",
              "    <tr>\n",
              "      <td>40</td>\n",
              "      <td>0.624200</td>\n",
              "      <td>0.904044</td>\n",
              "      <td>0.835938</td>\n",
              "      <td>0.834228</td>\n",
              "      <td>0.840361</td>\n",
              "      <td>0.835938</td>\n",
              "    </tr>\n",
              "    <tr>\n",
              "      <td>50</td>\n",
              "      <td>0.578200</td>\n",
              "      <td>0.892165</td>\n",
              "      <td>0.851562</td>\n",
              "      <td>0.851183</td>\n",
              "      <td>0.862903</td>\n",
              "      <td>0.851562</td>\n",
              "    </tr>\n",
              "    <tr>\n",
              "      <td>60</td>\n",
              "      <td>0.566600</td>\n",
              "      <td>0.877373</td>\n",
              "      <td>0.843750</td>\n",
              "      <td>0.842794</td>\n",
              "      <td>0.850532</td>\n",
              "      <td>0.843750</td>\n",
              "    </tr>\n",
              "    <tr>\n",
              "      <td>70</td>\n",
              "      <td>0.536200</td>\n",
              "      <td>0.867887</td>\n",
              "      <td>0.835938</td>\n",
              "      <td>0.834460</td>\n",
              "      <td>0.840488</td>\n",
              "      <td>0.835938</td>\n",
              "    </tr>\n",
              "    <tr>\n",
              "      <td>80</td>\n",
              "      <td>0.536900</td>\n",
              "      <td>0.836221</td>\n",
              "      <td>0.843750</td>\n",
              "      <td>0.841893</td>\n",
              "      <td>0.847906</td>\n",
              "      <td>0.843750</td>\n",
              "    </tr>\n",
              "    <tr>\n",
              "      <td>90</td>\n",
              "      <td>0.496200</td>\n",
              "      <td>0.822638</td>\n",
              "      <td>0.851562</td>\n",
              "      <td>0.851183</td>\n",
              "      <td>0.862903</td>\n",
              "      <td>0.851562</td>\n",
              "    </tr>\n",
              "    <tr>\n",
              "      <td>100</td>\n",
              "      <td>0.458700</td>\n",
              "      <td>0.799615</td>\n",
              "      <td>0.828125</td>\n",
              "      <td>0.826983</td>\n",
              "      <td>0.832040</td>\n",
              "      <td>0.828125</td>\n",
              "    </tr>\n",
              "    <tr>\n",
              "      <td>110</td>\n",
              "      <td>0.433600</td>\n",
              "      <td>0.775595</td>\n",
              "      <td>0.851562</td>\n",
              "      <td>0.849773</td>\n",
              "      <td>0.853725</td>\n",
              "      <td>0.851562</td>\n",
              "    </tr>\n",
              "    <tr>\n",
              "      <td>120</td>\n",
              "      <td>0.390100</td>\n",
              "      <td>0.758153</td>\n",
              "      <td>0.828125</td>\n",
              "      <td>0.826400</td>\n",
              "      <td>0.834861</td>\n",
              "      <td>0.828125</td>\n",
              "    </tr>\n",
              "  </tbody>\n",
              "</table><p>"
            ],
            "text/plain": [
              "<IPython.core.display.HTML object>"
            ]
          },
          "metadata": {},
          "output_type": "display_data"
        },
        {
          "data": {
            "text/html": [
              "\n",
              "    <div>\n",
              "      \n",
              "      <progress value='16' max='8' style='width:300px; height:20px; vertical-align: middle;'></progress>\n",
              "      [8/8 00:26]\n",
              "    </div>\n",
              "    "
            ],
            "text/plain": [
              "<IPython.core.display.HTML object>"
            ]
          },
          "metadata": {},
          "output_type": "display_data"
        },
        {
          "name": "stdout",
          "output_type": "stream",
          "text": [
            "Epoch 2/3\n"
          ]
        },
        {
          "data": {
            "text/html": [
              "\n",
              "    <div>\n",
              "      \n",
              "      <progress value='120' max='120' style='width:300px; height:20px; vertical-align: middle;'></progress>\n",
              "      [120/120 04:30, Epoch 3/3]\n",
              "    </div>\n",
              "    <table border=\"1\" class=\"dataframe\">\n",
              "  <thead>\n",
              " <tr style=\"text-align: left;\">\n",
              "      <th>Step</th>\n",
              "      <th>Training Loss</th>\n",
              "      <th>Validation Loss</th>\n",
              "      <th>Accuracy</th>\n",
              "      <th>F1</th>\n",
              "      <th>Precision</th>\n",
              "      <th>Recall</th>\n",
              "    </tr>\n",
              "  </thead>\n",
              "  <tbody>\n",
              "    <tr>\n",
              "      <td>10</td>\n",
              "      <td>0.352100</td>\n",
              "      <td>0.721406</td>\n",
              "      <td>0.835938</td>\n",
              "      <td>0.835042</td>\n",
              "      <td>0.841122</td>\n",
              "      <td>0.835938</td>\n",
              "    </tr>\n",
              "    <tr>\n",
              "      <td>20</td>\n",
              "      <td>0.324100</td>\n",
              "      <td>0.713091</td>\n",
              "      <td>0.835938</td>\n",
              "      <td>0.834889</td>\n",
              "      <td>0.840861</td>\n",
              "      <td>0.835938</td>\n",
              "    </tr>\n",
              "    <tr>\n",
              "      <td>30</td>\n",
              "      <td>0.323300</td>\n",
              "      <td>0.694079</td>\n",
              "      <td>0.835938</td>\n",
              "      <td>0.834460</td>\n",
              "      <td>0.840488</td>\n",
              "      <td>0.835938</td>\n",
              "    </tr>\n",
              "    <tr>\n",
              "      <td>40</td>\n",
              "      <td>0.303700</td>\n",
              "      <td>0.668224</td>\n",
              "      <td>0.835938</td>\n",
              "      <td>0.835042</td>\n",
              "      <td>0.841122</td>\n",
              "      <td>0.835938</td>\n",
              "    </tr>\n",
              "    <tr>\n",
              "      <td>50</td>\n",
              "      <td>0.268300</td>\n",
              "      <td>0.667552</td>\n",
              "      <td>0.843750</td>\n",
              "      <td>0.843772</td>\n",
              "      <td>0.852064</td>\n",
              "      <td>0.843750</td>\n",
              "    </tr>\n",
              "    <tr>\n",
              "      <td>60</td>\n",
              "      <td>0.258600</td>\n",
              "      <td>0.656514</td>\n",
              "      <td>0.835938</td>\n",
              "      <td>0.835042</td>\n",
              "      <td>0.841122</td>\n",
              "      <td>0.835938</td>\n",
              "    </tr>\n",
              "    <tr>\n",
              "      <td>70</td>\n",
              "      <td>0.249900</td>\n",
              "      <td>0.650288</td>\n",
              "      <td>0.835938</td>\n",
              "      <td>0.835042</td>\n",
              "      <td>0.841122</td>\n",
              "      <td>0.835938</td>\n",
              "    </tr>\n",
              "    <tr>\n",
              "      <td>80</td>\n",
              "      <td>0.259200</td>\n",
              "      <td>0.639067</td>\n",
              "      <td>0.835938</td>\n",
              "      <td>0.835042</td>\n",
              "      <td>0.841122</td>\n",
              "      <td>0.835938</td>\n",
              "    </tr>\n",
              "    <tr>\n",
              "      <td>90</td>\n",
              "      <td>0.241800</td>\n",
              "      <td>0.637680</td>\n",
              "      <td>0.835938</td>\n",
              "      <td>0.835042</td>\n",
              "      <td>0.841122</td>\n",
              "      <td>0.835938</td>\n",
              "    </tr>\n",
              "    <tr>\n",
              "      <td>100</td>\n",
              "      <td>0.240000</td>\n",
              "      <td>0.641208</td>\n",
              "      <td>0.835938</td>\n",
              "      <td>0.835042</td>\n",
              "      <td>0.841122</td>\n",
              "      <td>0.835938</td>\n",
              "    </tr>\n",
              "    <tr>\n",
              "      <td>110</td>\n",
              "      <td>0.235500</td>\n",
              "      <td>0.641733</td>\n",
              "      <td>0.835938</td>\n",
              "      <td>0.835042</td>\n",
              "      <td>0.841122</td>\n",
              "      <td>0.835938</td>\n",
              "    </tr>\n",
              "    <tr>\n",
              "      <td>120</td>\n",
              "      <td>0.228900</td>\n",
              "      <td>0.641630</td>\n",
              "      <td>0.835938</td>\n",
              "      <td>0.835042</td>\n",
              "      <td>0.841122</td>\n",
              "      <td>0.835938</td>\n",
              "    </tr>\n",
              "  </tbody>\n",
              "</table><p>"
            ],
            "text/plain": [
              "<IPython.core.display.HTML object>"
            ]
          },
          "metadata": {},
          "output_type": "display_data"
        },
        {
          "data": {
            "text/html": [
              "\n",
              "    <div>\n",
              "      \n",
              "      <progress value='16' max='8' style='width:300px; height:20px; vertical-align: middle;'></progress>\n",
              "      [8/8 00:28]\n",
              "    </div>\n",
              "    "
            ],
            "text/plain": [
              "<IPython.core.display.HTML object>"
            ]
          },
          "metadata": {},
          "output_type": "display_data"
        },
        {
          "name": "stdout",
          "output_type": "stream",
          "text": [
            "Epoch 3/3\n"
          ]
        },
        {
          "data": {
            "text/html": [
              "\n",
              "    <div>\n",
              "      \n",
              "      <progress value='120' max='120' style='width:300px; height:20px; vertical-align: middle;'></progress>\n",
              "      [120/120 04:16, Epoch 3/3]\n",
              "    </div>\n",
              "    <table border=\"1\" class=\"dataframe\">\n",
              "  <thead>\n",
              " <tr style=\"text-align: left;\">\n",
              "      <th>Step</th>\n",
              "      <th>Training Loss</th>\n",
              "      <th>Validation Loss</th>\n",
              "      <th>Accuracy</th>\n",
              "      <th>F1</th>\n",
              "      <th>Precision</th>\n",
              "      <th>Recall</th>\n",
              "    </tr>\n",
              "  </thead>\n",
              "  <tbody>\n",
              "    <tr>\n",
              "      <td>10</td>\n",
              "      <td>0.231600</td>\n",
              "      <td>0.641601</td>\n",
              "      <td>0.835938</td>\n",
              "      <td>0.835042</td>\n",
              "      <td>0.841122</td>\n",
              "      <td>0.835938</td>\n",
              "    </tr>\n",
              "    <tr>\n",
              "      <td>20</td>\n",
              "      <td>0.231600</td>\n",
              "      <td>0.640871</td>\n",
              "      <td>0.835938</td>\n",
              "      <td>0.835042</td>\n",
              "      <td>0.841122</td>\n",
              "      <td>0.835938</td>\n",
              "    </tr>\n",
              "    <tr>\n",
              "      <td>30</td>\n",
              "      <td>0.237200</td>\n",
              "      <td>0.640662</td>\n",
              "      <td>0.835938</td>\n",
              "      <td>0.835042</td>\n",
              "      <td>0.841122</td>\n",
              "      <td>0.835938</td>\n",
              "    </tr>\n",
              "    <tr>\n",
              "      <td>40</td>\n",
              "      <td>0.232700</td>\n",
              "      <td>0.638954</td>\n",
              "      <td>0.835938</td>\n",
              "      <td>0.835042</td>\n",
              "      <td>0.841122</td>\n",
              "      <td>0.835938</td>\n",
              "    </tr>\n",
              "    <tr>\n",
              "      <td>50</td>\n",
              "      <td>0.225000</td>\n",
              "      <td>0.637151</td>\n",
              "      <td>0.835938</td>\n",
              "      <td>0.835042</td>\n",
              "      <td>0.841122</td>\n",
              "      <td>0.835938</td>\n",
              "    </tr>\n",
              "    <tr>\n",
              "      <td>60</td>\n",
              "      <td>0.221400</td>\n",
              "      <td>0.635446</td>\n",
              "      <td>0.828125</td>\n",
              "      <td>0.827499</td>\n",
              "      <td>0.832276</td>\n",
              "      <td>0.828125</td>\n",
              "    </tr>\n",
              "    <tr>\n",
              "      <td>70</td>\n",
              "      <td>0.216500</td>\n",
              "      <td>0.629218</td>\n",
              "      <td>0.835938</td>\n",
              "      <td>0.835042</td>\n",
              "      <td>0.841122</td>\n",
              "      <td>0.835938</td>\n",
              "    </tr>\n",
              "    <tr>\n",
              "      <td>80</td>\n",
              "      <td>0.221800</td>\n",
              "      <td>0.611397</td>\n",
              "      <td>0.835938</td>\n",
              "      <td>0.835042</td>\n",
              "      <td>0.841122</td>\n",
              "      <td>0.835938</td>\n",
              "    </tr>\n",
              "    <tr>\n",
              "      <td>90</td>\n",
              "      <td>0.204400</td>\n",
              "      <td>0.619512</td>\n",
              "      <td>0.851562</td>\n",
              "      <td>0.851315</td>\n",
              "      <td>0.860910</td>\n",
              "      <td>0.851562</td>\n",
              "    </tr>\n",
              "    <tr>\n",
              "      <td>100</td>\n",
              "      <td>0.197700</td>\n",
              "      <td>0.626304</td>\n",
              "      <td>0.828125</td>\n",
              "      <td>0.827480</td>\n",
              "      <td>0.832592</td>\n",
              "      <td>0.828125</td>\n",
              "    </tr>\n",
              "    <tr>\n",
              "      <td>110</td>\n",
              "      <td>0.189600</td>\n",
              "      <td>0.607056</td>\n",
              "      <td>0.835938</td>\n",
              "      <td>0.835042</td>\n",
              "      <td>0.841122</td>\n",
              "      <td>0.835938</td>\n",
              "    </tr>\n",
              "    <tr>\n",
              "      <td>120</td>\n",
              "      <td>0.178700</td>\n",
              "      <td>0.601914</td>\n",
              "      <td>0.820312</td>\n",
              "      <td>0.819848</td>\n",
              "      <td>0.824019</td>\n",
              "      <td>0.820312</td>\n",
              "    </tr>\n",
              "  </tbody>\n",
              "</table><p>"
            ],
            "text/plain": [
              "<IPython.core.display.HTML object>"
            ]
          },
          "metadata": {},
          "output_type": "display_data"
        },
        {
          "data": {
            "text/html": [
              "\n",
              "    <div>\n",
              "      \n",
              "      <progress value='16' max='8' style='width:300px; height:20px; vertical-align: middle;'></progress>\n",
              "      [8/8 00:28]\n",
              "    </div>\n",
              "    "
            ],
            "text/plain": [
              "<IPython.core.display.HTML object>"
            ]
          },
          "metadata": {},
          "output_type": "display_data"
        },
        {
          "name": "stdout",
          "output_type": "stream",
          "text": [
            "Starting training for vit_AdamW_lr_2e-05...\n"
          ]
        },
        {
          "data": {
            "text/html": [
              "\n",
              "    <div>\n",
              "      \n",
              "      <progress value='120' max='120' style='width:300px; height:20px; vertical-align: middle;'></progress>\n",
              "      [120/120 04:15, Epoch 3/3]\n",
              "    </div>\n",
              "    <table border=\"1\" class=\"dataframe\">\n",
              "  <thead>\n",
              " <tr style=\"text-align: left;\">\n",
              "      <th>Step</th>\n",
              "      <th>Training Loss</th>\n",
              "      <th>Validation Loss</th>\n",
              "      <th>Accuracy</th>\n",
              "      <th>F1</th>\n",
              "      <th>Precision</th>\n",
              "      <th>Recall</th>\n",
              "    </tr>\n",
              "  </thead>\n",
              "  <tbody>\n",
              "    <tr>\n",
              "      <td>10</td>\n",
              "      <td>0.170800</td>\n",
              "      <td>0.603775</td>\n",
              "      <td>0.835938</td>\n",
              "      <td>0.835438</td>\n",
              "      <td>0.842019</td>\n",
              "      <td>0.835938</td>\n",
              "    </tr>\n",
              "    <tr>\n",
              "      <td>20</td>\n",
              "      <td>0.165400</td>\n",
              "      <td>0.588906</td>\n",
              "      <td>0.828125</td>\n",
              "      <td>0.827894</td>\n",
              "      <td>0.832222</td>\n",
              "      <td>0.828125</td>\n",
              "    </tr>\n",
              "    <tr>\n",
              "      <td>30</td>\n",
              "      <td>0.162900</td>\n",
              "      <td>0.599685</td>\n",
              "      <td>0.820312</td>\n",
              "      <td>0.821361</td>\n",
              "      <td>0.826671</td>\n",
              "      <td>0.820312</td>\n",
              "    </tr>\n",
              "    <tr>\n",
              "      <td>40</td>\n",
              "      <td>0.156900</td>\n",
              "      <td>0.583060</td>\n",
              "      <td>0.820312</td>\n",
              "      <td>0.820412</td>\n",
              "      <td>0.824643</td>\n",
              "      <td>0.820312</td>\n",
              "    </tr>\n",
              "    <tr>\n",
              "      <td>50</td>\n",
              "      <td>0.150900</td>\n",
              "      <td>0.585128</td>\n",
              "      <td>0.820312</td>\n",
              "      <td>0.820412</td>\n",
              "      <td>0.824643</td>\n",
              "      <td>0.820312</td>\n",
              "    </tr>\n",
              "    <tr>\n",
              "      <td>60</td>\n",
              "      <td>0.147300</td>\n",
              "      <td>0.587598</td>\n",
              "      <td>0.812500</td>\n",
              "      <td>0.813359</td>\n",
              "      <td>0.818169</td>\n",
              "      <td>0.812500</td>\n",
              "    </tr>\n",
              "    <tr>\n",
              "      <td>70</td>\n",
              "      <td>0.144500</td>\n",
              "      <td>0.584520</td>\n",
              "      <td>0.820312</td>\n",
              "      <td>0.820412</td>\n",
              "      <td>0.824643</td>\n",
              "      <td>0.820312</td>\n",
              "    </tr>\n",
              "    <tr>\n",
              "      <td>80</td>\n",
              "      <td>0.146900</td>\n",
              "      <td>0.578535</td>\n",
              "      <td>0.828125</td>\n",
              "      <td>0.827894</td>\n",
              "      <td>0.832222</td>\n",
              "      <td>0.828125</td>\n",
              "    </tr>\n",
              "    <tr>\n",
              "      <td>90</td>\n",
              "      <td>0.142500</td>\n",
              "      <td>0.576100</td>\n",
              "      <td>0.820312</td>\n",
              "      <td>0.820412</td>\n",
              "      <td>0.824643</td>\n",
              "      <td>0.820312</td>\n",
              "    </tr>\n",
              "    <tr>\n",
              "      <td>100</td>\n",
              "      <td>0.142700</td>\n",
              "      <td>0.579333</td>\n",
              "      <td>0.820312</td>\n",
              "      <td>0.820412</td>\n",
              "      <td>0.824643</td>\n",
              "      <td>0.820312</td>\n",
              "    </tr>\n",
              "    <tr>\n",
              "      <td>110</td>\n",
              "      <td>0.141700</td>\n",
              "      <td>0.580146</td>\n",
              "      <td>0.820312</td>\n",
              "      <td>0.820412</td>\n",
              "      <td>0.824643</td>\n",
              "      <td>0.820312</td>\n",
              "    </tr>\n",
              "    <tr>\n",
              "      <td>120</td>\n",
              "      <td>0.139400</td>\n",
              "      <td>0.580107</td>\n",
              "      <td>0.820312</td>\n",
              "      <td>0.820412</td>\n",
              "      <td>0.824643</td>\n",
              "      <td>0.820312</td>\n",
              "    </tr>\n",
              "  </tbody>\n",
              "</table><p>"
            ],
            "text/plain": [
              "<IPython.core.display.HTML object>"
            ]
          },
          "metadata": {},
          "output_type": "display_data"
        },
        {
          "name": "stdout",
          "output_type": "stream",
          "text": [
            "Evaluating vit_AdamW_lr_2e-05...\n"
          ]
        },
        {
          "data": {
            "text/html": [],
            "text/plain": [
              "<IPython.core.display.HTML object>"
            ]
          },
          "metadata": {},
          "output_type": "display_data"
        },
        {
          "data": {
            "text/html": [],
            "text/plain": [
              "<IPython.core.display.HTML object>"
            ]
          },
          "metadata": {},
          "output_type": "display_data"
        },
        {
          "data": {
            "text/html": [
              "<br>    <style><br>        .wandb-row {<br>            display: flex;<br>            flex-direction: row;<br>            flex-wrap: wrap;<br>            justify-content: flex-start;<br>            width: 100%;<br>        }<br>        .wandb-col {<br>            display: flex;<br>            flex-direction: column;<br>            flex-basis: 100%;<br>            flex: 1;<br>            padding: 10px;<br>        }<br>    </style><br><div class=\"wandb-row\"><div class=\"wandb-col\"><h3>Run history:</h3><br/><table class=\"wandb\"><tr><td>epoch</td><td>▁▅█▁▅█</td></tr><tr><td>eval/accuracy</td><td>▁▅▅▆▆▆▆▆▆▆▇▇▇██████████████████████████▇</td></tr><tr><td>eval/f1</td><td>▁▄▆▆▆▆▆▆▆▆▇▇▇▇██████████████████████████</td></tr><tr><td>eval/loss</td><td>█▇▇▇▆▆▆▆▆▆▆▅▅▅▄▃▃▃▃▃▃▂▂▂▂▁▁▁▁▁▁▁▁▁▁▁▁▁▁▁</td></tr><tr><td>eval/precision</td><td>▁▄▆▆▆▆▆▆▆▆▇█▇██▇▇██████████████████▇▇█▇█</td></tr><tr><td>eval/recall</td><td>▁▂▂▂▂▂▂▂▂▂▃▆▆▇▇▇▇▆▆▇▇▇███▇▇█▇▇▇▇▇▇█▇▇▇▆▇</td></tr><tr><td>eval/runtime</td><td>▅▇▅▅▅▅▅▅▆▅▅▅▅▅▅▅▅▅▅▅▅▅▅▅▅█▅▅▅▅▅▅▅▅▅▅▅▆▅▁</td></tr><tr><td>eval/samples_per_second</td><td>▆▅▁▇█▇▆▇█▆▇██▇▇██▇█▆█▆█▇▇█▆█▇▇███▆██▇▆▇▇</td></tr><tr><td>eval/steps_per_second</td><td>▆▆█▆▇▇█▇▅██▇█▇▇██▆▇█▇▇█▇█▃▁▇▇█▇▇███▇▇▇▅▆</td></tr><tr><td>final_accuracy</td><td>▁</td></tr><tr><td>final_f1</td><td>▁</td></tr><tr><td>final_precision</td><td>▁</td></tr><tr><td>final_recall</td><td>▁</td></tr><tr><td>test/accuracy</td><td>▁</td></tr><tr><td>test/f1</td><td>▁</td></tr><tr><td>test/loss</td><td>▁</td></tr><tr><td>test/precision</td><td>▁</td></tr><tr><td>test/recall</td><td>▁</td></tr><tr><td>test/runtime</td><td>▁</td></tr><tr><td>test/samples_per_second</td><td>▁</td></tr><tr><td>test/steps_per_second</td><td>▁</td></tr><tr><td>train/epoch</td><td>▃▄▅▇█▄▅▅▇█▁▁▂▄▅▇▇▁▂▃▄▅▅▆▇▂▄▆▇▇▃▄▅▇▇█▂▃▃█</td></tr><tr><td>train/global_step</td><td>▁▃▄▇█▁▂▂▄▄█▂▄▄▅█▁▁▂▂▄▇█▁▂▄▄▇█▁▄▅▆▇█▂▅▇▇█</td></tr><tr><td>train/grad_norm</td><td>▇▇██▇▇▇█▇▇▇▇▆▇█▅▅▅▅▅▅▄▅▅▃▄▂▃▂▂▂▂▂▂▂▁▁▂▁▁</td></tr><tr><td>train/learning_rate</td><td>█▅▄▂▁▁▁▂▃▅▇█▇▆▅▂▁▁▁▂▄▄▇██▆▅▅▃▂▁▂▃▄▆▅▅▄▂▁</td></tr><tr><td>train/loss</td><td>██▇▆▆▆▆▆▅▅▅▄▄▄▃▃▃▃▃▃▂▂▂▁▁▁▁▁▁▁▁▁▁▁▁▁▁▁▁▁</td></tr><tr><td>val_accuracy</td><td>▁▇▇██▇</td></tr><tr><td>val_loss</td><td>█▅▃▂▁▁</td></tr></table><br/></div><div class=\"wandb-col\"><h3>Run summary:</h3><br/><table class=\"wandb\"><tr><td>epoch</td><td>3</td></tr><tr><td>eval/accuracy</td><td>0.8125</td></tr><tr><td>eval/f1</td><td>0.80871</td></tr><tr><td>eval/loss</td><td>0.6893</td></tr><tr><td>eval/precision</td><td>0.84449</td></tr><tr><td>eval/recall</td><td>0.8125</td></tr><tr><td>eval/runtime</td><td>1.8313</td></tr><tr><td>eval/samples_per_second</td><td>17.474</td></tr><tr><td>eval/steps_per_second</td><td>1.092</td></tr><tr><td>final_accuracy</td><td>0.8125</td></tr><tr><td>final_f1</td><td>0.80871</td></tr><tr><td>final_precision</td><td>0.84449</td></tr><tr><td>final_recall</td><td>0.8125</td></tr><tr><td>test/accuracy</td><td>0.8125</td></tr><tr><td>test/f1</td><td>0.80871</td></tr><tr><td>test/loss</td><td>0.6893</td></tr><tr><td>test/precision</td><td>0.84449</td></tr><tr><td>test/recall</td><td>0.8125</td></tr><tr><td>test/runtime</td><td>1.7406</td></tr><tr><td>test/samples_per_second</td><td>18.384</td></tr><tr><td>test/steps_per_second</td><td>1.149</td></tr><tr><td>total_flos</td><td>1.4879262111694848e+17</td></tr><tr><td>train/epoch</td><td>3</td></tr><tr><td>train/global_step</td><td>120</td></tr><tr><td>train/grad_norm</td><td>0.36018</td></tr><tr><td>train/learning_rate</td><td>0.0</td></tr><tr><td>train/loss</td><td>0.1394</td></tr><tr><td>train_loss</td><td>0.15099</td></tr><tr><td>train_runtime</td><td>258.8838</td></tr><tr><td>train_samples_per_second</td><td>7.416</td></tr><tr><td>train_steps_per_second</td><td>0.464</td></tr><tr><td>val_accuracy</td><td>0.82031</td></tr><tr><td>val_loss</td><td>0.60191</td></tr></table><br/></div></div>"
            ],
            "text/plain": [
              "<IPython.core.display.HTML object>"
            ]
          },
          "metadata": {},
          "output_type": "display_data"
        },
        {
          "data": {
            "text/html": [
              " View run <strong style=\"color:#cdcd00\">vit_AdamW_lr_2e-05</strong> at: <a href='https://wandb.ai/dl_project_sp25/ViT-Optimizer-Sweep/runs/a3aipvvg' target=\"_blank\">https://wandb.ai/dl_project_sp25/ViT-Optimizer-Sweep/runs/a3aipvvg</a><br> View project at: <a href='https://wandb.ai/dl_project_sp25/ViT-Optimizer-Sweep' target=\"_blank\">https://wandb.ai/dl_project_sp25/ViT-Optimizer-Sweep</a><br>Synced 5 W&B file(s), 1 media file(s), 2 artifact file(s) and 0 other file(s)"
            ],
            "text/plain": [
              "<IPython.core.display.HTML object>"
            ]
          },
          "metadata": {},
          "output_type": "display_data"
        },
        {
          "data": {
            "text/html": [
              "Find logs at: <code>./wandb/run-20250419_045909-a3aipvvg/logs</code>"
            ],
            "text/plain": [
              "<IPython.core.display.HTML object>"
            ]
          },
          "metadata": {},
          "output_type": "display_data"
        },
        {
          "name": "stderr",
          "output_type": "stream",
          "text": [
            "\u001b[34m\u001b[1mwandb\u001b[0m: \u001b[32m\u001b[41mERROR\u001b[0m Run a3aipvvg errored:\n",
            "\u001b[34m\u001b[1mwandb\u001b[0m: \u001b[32m\u001b[41mERROR\u001b[0m Traceback (most recent call last):\n",
            "\u001b[34m\u001b[1mwandb\u001b[0m: \u001b[32m\u001b[41mERROR\u001b[0m   File \"/Users/egoh02/Github/CS7643-Project-SP25/.venv/lib/python3.11/site-packages/wandb/agents/pyagent.py\", line 306, in _run_job\n",
            "\u001b[34m\u001b[1mwandb\u001b[0m: \u001b[32m\u001b[41mERROR\u001b[0m     self._function()\n",
            "\u001b[34m\u001b[1mwandb\u001b[0m: \u001b[32m\u001b[41mERROR\u001b[0m   File \"/var/folders/3x/ww_4869j0gq7501tpsbdxh0m0000gq/T/ipykernel_3005/3738181047.py\", line 606, in run_optimizer_sweep\n",
            "\u001b[34m\u001b[1mwandb\u001b[0m: \u001b[32m\u001b[41mERROR\u001b[0m     wandb.log({\n",
            "\u001b[34m\u001b[1mwandb\u001b[0m: \u001b[32m\u001b[41mERROR\u001b[0m   File \"/Users/egoh02/Github/CS7643-Project-SP25/.venv/lib/python3.11/site-packages/wandb/sdk/lib/preinit.py\", line 36, in preinit_wrapper\n",
            "\u001b[34m\u001b[1mwandb\u001b[0m: \u001b[32m\u001b[41mERROR\u001b[0m     raise wandb.Error(f\"You must call wandb.init() before {name}()\")\n",
            "\u001b[34m\u001b[1mwandb\u001b[0m: \u001b[32m\u001b[41mERROR\u001b[0m wandb.errors.errors.Error: You must call wandb.init() before wandb.log()\n",
            "\u001b[34m\u001b[1mwandb\u001b[0m: \u001b[32m\u001b[41mERROR\u001b[0m \n",
            "\u001b[34m\u001b[1mwandb\u001b[0m: Agent Starting Run: pte4653e with config:\n",
            "\u001b[34m\u001b[1mwandb\u001b[0m: \tbatch_size: 16\n",
            "\u001b[34m\u001b[1mwandb\u001b[0m: \tlearning_rate: 2e-05\n",
            "\u001b[34m\u001b[1mwandb\u001b[0m: \tnum_epochs: 3\n",
            "\u001b[34m\u001b[1mwandb\u001b[0m: \toptimizer_name: SGD\n",
            "\u001b[34m\u001b[1mwandb\u001b[0m: \tscheduler_name: cosine\n"
          ]
        },
        {
          "data": {
            "text/html": [
              "Tracking run with wandb version 0.19.9"
            ],
            "text/plain": [
              "<IPython.core.display.HTML object>"
            ]
          },
          "metadata": {},
          "output_type": "display_data"
        },
        {
          "data": {
            "text/html": [
              "Run data is saved locally in <code>/Users/egoh02/Github/CS7643-Project-SP25/wandb/run-20250419_053051-pte4653e</code>"
            ],
            "text/plain": [
              "<IPython.core.display.HTML object>"
            ]
          },
          "metadata": {},
          "output_type": "display_data"
        },
        {
          "data": {
            "text/html": [
              "Syncing run <strong><a href='https://wandb.ai/dl_project_sp25/ViT-Optimizer-Sweep/runs/pte4653e' target=\"_blank\">toasty-sweep-2</a></strong> to <a href='https://wandb.ai/dl_project_sp25/ViT-Optimizer-Sweep' target=\"_blank\">Weights & Biases</a> (<a href='https://wandb.me/developer-guide' target=\"_blank\">docs</a>)<br>Sweep page: <a href='https://wandb.ai/dl_project_sp25/ViT-Optimizer-Sweep/sweeps/tm2oh2c4' target=\"_blank\">https://wandb.ai/dl_project_sp25/ViT-Optimizer-Sweep/sweeps/tm2oh2c4</a>"
            ],
            "text/plain": [
              "<IPython.core.display.HTML object>"
            ]
          },
          "metadata": {},
          "output_type": "display_data"
        },
        {
          "data": {
            "text/html": [
              " View project at <a href='https://wandb.ai/dl_project_sp25/ViT-Optimizer-Sweep' target=\"_blank\">https://wandb.ai/dl_project_sp25/ViT-Optimizer-Sweep</a>"
            ],
            "text/plain": [
              "<IPython.core.display.HTML object>"
            ]
          },
          "metadata": {},
          "output_type": "display_data"
        },
        {
          "data": {
            "text/html": [
              " View sweep at <a href='https://wandb.ai/dl_project_sp25/ViT-Optimizer-Sweep/sweeps/tm2oh2c4' target=\"_blank\">https://wandb.ai/dl_project_sp25/ViT-Optimizer-Sweep/sweeps/tm2oh2c4</a>"
            ],
            "text/plain": [
              "<IPython.core.display.HTML object>"
            ]
          },
          "metadata": {},
          "output_type": "display_data"
        },
        {
          "data": {
            "text/html": [
              " View run at <a href='https://wandb.ai/dl_project_sp25/ViT-Optimizer-Sweep/runs/pte4653e' target=\"_blank\">https://wandb.ai/dl_project_sp25/ViT-Optimizer-Sweep/runs/pte4653e</a>"
            ],
            "text/plain": [
              "<IPython.core.display.HTML object>"
            ]
          },
          "metadata": {},
          "output_type": "display_data"
        },
        {
          "name": "stdout",
          "output_type": "stream",
          "text": [
            "W&B initialized: <wandb.sdk.wandb_run.Run object at 0x1695a0550>\n"
          ]
        },
        {
          "data": {
            "text/html": [
              "Ignoring project 'ViT-LR-Schedulers' when running a sweep."
            ],
            "text/plain": [
              "<IPython.core.display.HTML object>"
            ]
          },
          "metadata": {},
          "output_type": "display_data"
        },
        {
          "data": {
            "text/html": [],
            "text/plain": [
              "<IPython.core.display.HTML object>"
            ]
          },
          "metadata": {},
          "output_type": "display_data"
        },
        {
          "data": {
            "text/html": [
              " View run <strong style=\"color:#cdcd00\">toasty-sweep-2</strong> at: <a href='https://wandb.ai/dl_project_sp25/ViT-Optimizer-Sweep/runs/pte4653e' target=\"_blank\">https://wandb.ai/dl_project_sp25/ViT-Optimizer-Sweep/runs/pte4653e</a><br> View project at: <a href='https://wandb.ai/dl_project_sp25/ViT-Optimizer-Sweep' target=\"_blank\">https://wandb.ai/dl_project_sp25/ViT-Optimizer-Sweep</a><br>Synced 5 W&B file(s), 0 media file(s), 0 artifact file(s) and 0 other file(s)"
            ],
            "text/plain": [
              "<IPython.core.display.HTML object>"
            ]
          },
          "metadata": {},
          "output_type": "display_data"
        },
        {
          "data": {
            "text/html": [
              "Find logs at: <code>./wandb/run-20250419_053051-pte4653e/logs</code>"
            ],
            "text/plain": [
              "<IPython.core.display.HTML object>"
            ]
          },
          "metadata": {},
          "output_type": "display_data"
        },
        {
          "data": {
            "text/html": [
              "Tracking run with wandb version 0.19.9"
            ],
            "text/plain": [
              "<IPython.core.display.HTML object>"
            ]
          },
          "metadata": {},
          "output_type": "display_data"
        },
        {
          "data": {
            "text/html": [
              "Run data is saved locally in <code>/Users/egoh02/Github/CS7643-Project-SP25/wandb/run-20250419_053052-pte4653e</code>"
            ],
            "text/plain": [
              "<IPython.core.display.HTML object>"
            ]
          },
          "metadata": {},
          "output_type": "display_data"
        },
        {
          "data": {
            "text/html": [
              "Syncing run <strong><a href='https://wandb.ai/dl_project_sp25/ViT-Optimizer-Sweep/runs/pte4653e' target=\"_blank\">vit_SGD_lr_2e-05</a></strong> to <a href='https://wandb.ai/dl_project_sp25/ViT-Optimizer-Sweep' target=\"_blank\">Weights & Biases</a> (<a href='https://wandb.me/developer-guide' target=\"_blank\">docs</a>)<br>Sweep page: <a href='https://wandb.ai/dl_project_sp25/ViT-Optimizer-Sweep/sweeps/tm2oh2c4' target=\"_blank\">https://wandb.ai/dl_project_sp25/ViT-Optimizer-Sweep/sweeps/tm2oh2c4</a>"
            ],
            "text/plain": [
              "<IPython.core.display.HTML object>"
            ]
          },
          "metadata": {},
          "output_type": "display_data"
        },
        {
          "data": {
            "text/html": [
              " View project at <a href='https://wandb.ai/dl_project_sp25/ViT-Optimizer-Sweep' target=\"_blank\">https://wandb.ai/dl_project_sp25/ViT-Optimizer-Sweep</a>"
            ],
            "text/plain": [
              "<IPython.core.display.HTML object>"
            ]
          },
          "metadata": {},
          "output_type": "display_data"
        },
        {
          "data": {
            "text/html": [
              " View sweep at <a href='https://wandb.ai/dl_project_sp25/ViT-Optimizer-Sweep/sweeps/tm2oh2c4' target=\"_blank\">https://wandb.ai/dl_project_sp25/ViT-Optimizer-Sweep/sweeps/tm2oh2c4</a>"
            ],
            "text/plain": [
              "<IPython.core.display.HTML object>"
            ]
          },
          "metadata": {},
          "output_type": "display_data"
        },
        {
          "data": {
            "text/html": [
              " View run at <a href='https://wandb.ai/dl_project_sp25/ViT-Optimizer-Sweep/runs/pte4653e' target=\"_blank\">https://wandb.ai/dl_project_sp25/ViT-Optimizer-Sweep/runs/pte4653e</a>"
            ],
            "text/plain": [
              "<IPython.core.display.HTML object>"
            ]
          },
          "metadata": {},
          "output_type": "display_data"
        },
        {
          "name": "stdout",
          "output_type": "stream",
          "text": [
            "Loading dataset: jbarat/plant_species\n",
            "Dataset prepared with 640 training, 128 validation, and 32 test examples\n"
          ]
        },
        {
          "name": "stderr",
          "output_type": "stream",
          "text": [
            "Some weights of ViTForImageClassification were not initialized from the model checkpoint at google/vit-base-patch16-224-in21k and are newly initialized: ['classifier.bias', 'classifier.weight']\n",
            "You should probably TRAIN this model on a down-stream task to be able to use it for predictions and inference.\n",
            "\u001b[34m\u001b[1mwandb\u001b[0m: \u001b[33mWARNING\u001b[0m Config item 'learning_rate' was locked by 'sweep' (ignored update).\n"
          ]
        },
        {
          "name": "stdout",
          "output_type": "stream",
          "text": [
            "Epoch 1/3\n"
          ]
        },
        {
          "data": {
            "text/html": [
              "\n",
              "    <div>\n",
              "      \n",
              "      <progress value='21' max='120' style='width:300px; height:20px; vertical-align: middle;'></progress>\n",
              "      [ 21/120 00:32 < 02:48, 0.59 it/s, Epoch 0.50/3]\n",
              "    </div>\n",
              "    <table border=\"1\" class=\"dataframe\">\n",
              "  <thead>\n",
              " <tr style=\"text-align: left;\">\n",
              "      <th>Step</th>\n",
              "      <th>Training Loss</th>\n",
              "      <th>Validation Loss</th>\n",
              "      <th>Accuracy</th>\n",
              "      <th>F1</th>\n",
              "      <th>Precision</th>\n",
              "      <th>Recall</th>\n",
              "    </tr>\n",
              "  </thead>\n",
              "  <tbody>\n",
              "    <tr>\n",
              "      <td>10</td>\n",
              "      <td>2.113500</td>\n",
              "      <td>2.109639</td>\n",
              "      <td>0.070312</td>\n",
              "      <td>0.069318</td>\n",
              "      <td>0.070427</td>\n",
              "      <td>0.070312</td>\n",
              "    </tr>\n",
              "  </tbody>\n",
              "</table><p>\n",
              "    <div>\n",
              "      \n",
              "      <progress value='1' max='8' style='width:300px; height:20px; vertical-align: middle;'></progress>\n",
              "      [1/8 : < :]\n",
              "    </div>\n",
              "    "
            ],
            "text/plain": [
              "<IPython.core.display.HTML object>"
            ]
          },
          "metadata": {},
          "output_type": "display_data"
        }
      ],
      "source": [
        "\n",
        "# Main execution\n",
        "if __name__ == \"__main__\":\n",
        "    print(\"Starting ViT experiments with different learning rate schedulers...\")\n",
        "    os.environ[\"WANDB_PROJECT\"] = \"ViT-LR-Schedulers\"\n",
        "\n",
        "    # Option 1: Run all experiments (time-consuming)\n",
        "    # results = run_all_experiments()\n",
        "    # results_df = visualize_results(results)\n",
        "\n",
        "    # Option 2: Run a single experiment for testing\n",
        "    # run_single_experiment(0)  # Try the baseline experiment first\n",
        "\n",
        "    #option 3: Optimizer sweep:\n",
        "    sweep_id = wandb.sweep(sweep_config, project=\"ViT-Optimizer-Sweep\")\n",
        "    wandb.agent(sweep_id, function=run_optimizer_sweep)\n",
        "\n",
        "    print(\"Experiments completed!\")"
      ]
    },
    {
      "cell_type": "code",
      "execution_count": null,
      "metadata": {
        "id": "dON4fJvq0Ulv"
      },
      "outputs": [],
      "source": []
    },
    {
      "cell_type": "code",
      "execution_count": null,
      "metadata": {
        "id": "OJqA_rlc0Ulv"
      },
      "outputs": [],
      "source": []
    }
  ],
  "metadata": {
    "accelerator": "GPU",
    "colab": {
      "gpuType": "T4",
      "provenance": []
    },
    "kernelspec": {
      "display_name": ".venv",
      "language": "python",
      "name": "python3"
    },
    "language_info": {
      "codemirror_mode": {
        "name": "ipython",
        "version": 3
      },
      "file_extension": ".py",
      "mimetype": "text/x-python",
      "name": "python",
      "nbconvert_exporter": "python",
      "pygments_lexer": "ipython3",
      "version": "3.11.5"
    }
  },
  "nbformat": 4,
  "nbformat_minor": 0
}